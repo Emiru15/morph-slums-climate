{
 "cells": [
  {
   "cell_type": "code",
   "execution_count": 2,
   "metadata": {},
   "outputs": [],
   "source": [
    "import geopandas as gpd\n",
    "import matplotlib.pyplot as plt\n",
    "import pandas as pd\n",
    "# from rasterstats import zonal_stats"
   ]
  },
  {
   "cell_type": "code",
   "execution_count": 64,
   "metadata": {},
   "outputs": [],
   "source": [
    "def city_stats(data):\n",
    "    # Data I need\n",
    "    # 1. Majority cluster of each zone\n",
    "    # 2. Majority cluster of each city (all zones)\n",
    "    # 3. Percentages of each zone\n",
    "    # 4. Percentages of each city\n",
    "    histos = data.iloc[:, 2:]\n",
    "    majority = histos.idxmax(axis=1)\n",
    "\n",
    "    maj_count = majority.value_counts()\n",
    "\n",
    "    perc_list = pd.DataFrame()\n",
    "    for index, row in histos.iterrows():\n",
    "        percentage = (row / row.sum()) * 100\n",
    "        perc_list = pd.concat([perc_list, percentage], axis=1)\n",
    "    perc_list = perc_list.T\n",
    "\n",
    "    city_sum = perc_list.sum()\n",
    "    city_perc = (city_sum / city_sum.sum()) * 100\n",
    "\n",
    "    return majority, maj_count, perc_list, city_perc"
   ]
  },
  {
   "cell_type": "code",
   "execution_count": 63,
   "metadata": {},
   "outputs": [
    {
     "data": {
      "text/plain": [
       "HISTO_0     6.296572\n",
       "HISTO_1     1.281882\n",
       "HISTO_2    15.100588\n",
       "HISTO_3    38.345731\n",
       "HISTO_4    11.480658\n",
       "HISTO_5    27.494569\n",
       "dtype: float64"
      ]
     },
     "execution_count": 63,
     "metadata": {},
     "output_type": "execute_result"
    }
   ],
   "source": [
    "shapefile = gpd.read_file(\"data/zonal_statistics/zonal_statistics/accra_bisecting_5_histogram.dbf\")\n",
    "\n",
    "cols = ['Settlement', 'Population', 'HISTO_0', 'HISTO_1', 'HISTO_2', 'HISTO_3', 'HISTO_4', 'HISTO_5']\n",
    "data = shapefile[cols]"
   ]
  },
  {
   "cell_type": "code",
   "execution_count": null,
   "metadata": {},
   "outputs": [],
   "source": []
  },
  {
   "cell_type": "code",
   "execution_count": 26,
   "metadata": {},
   "outputs": [
    {
     "name": "stdout",
     "output_type": "stream",
     "text": [
      "   Country   City         Settlement Establishe  Last_Updat Population  \\\n",
      "0    Ghana  Accra            Maamobi       1925  03-05-2017      42000   \n",
      "1    Ghana  Accra            MABROUK       1918  13-01-2018       8500   \n",
      "2    Ghana  Accra           MAMPROBI       1809  10-10-2016      50000   \n",
      "3    Ghana  Accra          ABELENKPE       1940  10-10-2016      15000   \n",
      "4    Ghana  Accra              ABOFO       1918  09-10-2016      32214   \n",
      "5    Ghana  Accra       ABOSSEY OKAI       1970  03-10-2016      75000   \n",
      "6    Ghana  Accra           ACHIMOTA       1970  09-10-2016      24000   \n",
      "7    Ghana  Accra           ADABRAKA       1839  03-05-2017      56000   \n",
      "8    Ghana  Accra            ADWENBU       1956  10-10-2016      87500   \n",
      "9    Ghana  Accra              ALAJO       1879  10-10-2016      60000   \n",
      "10   Ghana  Accra            Amantra       1827  13-01-2018       6600   \n",
      "11   Ghana  Accra           ANOMULEY       1943  09-10-2016      18000   \n",
      "12   Ghana  Accra        ASYLUM DOWN       1800  10-10-2016      25000   \n",
      "13   Ghana  Accra  Awoshie Kwashiebu       1960  16-08-2016     145000   \n",
      "14   Ghana  Accra            AWUDOME       1953  13-01-2018       7200   \n",
      "15   Ghana  Accra            AYIDIKI       1954  09-10-2016       4000   \n",
      "16   Ghana  Accra           BLEMAGOR       1865  13-01-2018      16980   \n",
      "17   Ghana  Accra              BUBII       1970  09-10-2016     120000   \n",
      "18   Ghana  Accra            CHORKOR       1820  08-10-2016      25000   \n",
      "19   Ghana  Accra      DARKUMAN WEST       1958  10-10-2016      60000   \n",
      "20   Ghana  Accra           DZORWULU       1955  10-10-2016      96000   \n",
      "21   Ghana  Accra         EAST LEGON       1939  10-10-2016     125000   \n",
      "22   Ghana  Accra              GBEBU       1901  08-10-2016     250000   \n",
      "23   Ghana  Accra            GBEMOMO       1970  09-10-2016       7000   \n",
      "24   Ghana  Accra           GBORTSUI       1920  08-10-2016     144000   \n",
      "25   Ghana  Accra            GONTENG       1970  09-10-2016      12000   \n",
      "26   Ghana  Accra              Kanda       1892  04-03-2017       7500   \n",
      "27   Ghana  Accra           KANESHIE       1970  09-10-2016      60000   \n",
      "28   Ghana  Accra          KANTEISAN       1970  10-10-2016      25600   \n",
      "29   Ghana  Accra           KORLE BU       1970  09-10-2016        900   \n",
      "30   Ghana  Accra        Korle Dudor       1970  13-01-2018       2000   \n",
      "31   Ghana  Accra        KORLE GONNO       1800  13-01-2018       7500   \n",
      "32   Ghana  Accra           KOTOBABI       1865  09-10-2016       9600   \n",
      "33   Ghana  Accra         KWASHIEMAN       1970  10-10-2016     141400   \n",
      "34   Ghana  Accra       MAAMOBI WEST       1925  11-10-2016      15000   \n",
      "\n",
      "   Structures                                          url      Area  \\\n",
      "0        6800  https://sdinet.org/settlement/1846/15082576   42000.0   \n",
      "1        5395   https://sdinet.org/settlement/1846/5136292    8500.0   \n",
      "2        3524   https://sdinet.org/settlement/1846/5119973   50000.0   \n",
      "3        1440   https://sdinet.org/settlement/1846/5119249   15000.0   \n",
      "4       24638   https://sdinet.org/settlement/1846/5193260   32214.0   \n",
      "5        5038   https://sdinet.org/settlement/1846/9015532   75000.0   \n",
      "6        4576   https://sdinet.org/settlement/1846/5185027   24000.0   \n",
      "7        2356  https://sdinet.org/settlement/1846/15080768   56000.0   \n",
      "8        6073   https://sdinet.org/settlement/1846/5126739   87500.0   \n",
      "9       20000   https://sdinet.org/settlement/1846/5136937   60000.0   \n",
      "10       5719  https://sdinet.org/settlement/1846/16448757    6600.0   \n",
      "11       2070   https://sdinet.org/settlement/1846/5152966   18000.0   \n",
      "12       2745   https://sdinet.org/settlement/1846/5136980   25000.0   \n",
      "13      37088  https://sdinet.org/settlement/1846/16841372  145000.0   \n",
      "14       5750   https://sdinet.org/settlement/1846/9029064    7200.0   \n",
      "15        124   https://sdinet.org/settlement/1846/9027845    4000.0   \n",
      "16       2293   https://sdinet.org/settlement/1846/5150951   16980.0   \n",
      "17      10966   https://sdinet.org/settlement/1846/5141729  120000.0   \n",
      "18       9010   https://sdinet.org/settlement/1846/5129982   25000.0   \n",
      "19      14090   https://sdinet.org/settlement/1846/5122299   60000.0   \n",
      "20       1170   https://sdinet.org/settlement/1846/5119988   96000.0   \n",
      "21       6660   https://sdinet.org/settlement/1846/5121728  125000.0   \n",
      "22       6106   https://sdinet.org/settlement/1846/5129339  250000.0   \n",
      "23       2605   https://sdinet.org/settlement/1846/5153287    7000.0   \n",
      "24       5000   https://sdinet.org/settlement/1846/5131202  144000.0   \n",
      "25       4180   https://sdinet.org/settlement/1846/5153297   12000.0   \n",
      "26        417   https://sdinet.org/settlement/1846/3082992    7500.0   \n",
      "27       8187   https://sdinet.org/settlement/1846/5141628   60000.0   \n",
      "28       2000   https://sdinet.org/settlement/1846/5142799   25600.0   \n",
      "29        275   https://sdinet.org/settlement/1846/5131720     900.0   \n",
      "30      20026   https://sdinet.org/settlement/1846/5120265    2000.0   \n",
      "31       6420   https://sdinet.org/settlement/1846/5126635    7500.0   \n",
      "32       2200   https://sdinet.org/settlement/1846/5142187    9600.0   \n",
      "33      10100   https://sdinet.org/settlement/1846/5126973  141400.0   \n",
      "34       9350   https://sdinet.org/settlement/1846/3082372   15000.0   \n",
      "\n",
      "         pop  kyc_year                                           geometry  \n",
      "0    42000.0    2017.0  POLYGON ((-0.19366 5.59851, -0.19366 5.59850, ...  \n",
      "1     8500.0    2018.0  POLYGON ((-0.23979 5.55733, -0.23535 5.55629, ...  \n",
      "2    50000.0    2016.0  POLYGON ((-0.24664 5.53894, -0.24667 5.53913, ...  \n",
      "3    15000.0    2016.0  POLYGON ((-0.22446 5.59977, -0.22532 5.60149, ...  \n",
      "4    32214.0    2016.0  POLYGON ((-0.23656 5.62963, -0.23275 5.63215, ...  \n",
      "5    75000.0    2016.0  POLYGON ((-0.23979 5.55733, -0.23989 5.55744, ...  \n",
      "6    24000.0    2016.0  POLYGON ((-0.23599 5.61517, -0.23605 5.61567, ...  \n",
      "7    56000.0    2017.0  POLYGON ((-0.21314 5.56082, -0.21314 5.56082, ...  \n",
      "8    87500.0    2016.0  POLYGON ((-0.24227 5.56890, -0.24473 5.56447, ...  \n",
      "9    60000.0    2016.0  POLYGON ((-0.20826 5.60233, -0.20919 5.60089, ...  \n",
      "10    6600.0    2018.0  POLYGON ((-0.20365 5.54875, -0.20356 5.54920, ...  \n",
      "11   18000.0    2016.0  POLYGON ((-0.22770 5.63448, -0.22172 5.64013, ...  \n",
      "12   25000.0    2016.0  POLYGON ((-0.19030 5.57175, -0.19014 5.57180, ...  \n",
      "13  145000.0    2016.0  POLYGON ((-0.27481 5.59165, -0.27312 5.59401, ...  \n",
      "14    7200.0    2018.0  POLYGON ((-0.23894 5.57205, -0.23881 5.57216, ...  \n",
      "15    4000.0    2016.0  POLYGON ((-0.21386 5.59129, -0.21380 5.59244, ...  \n",
      "16   16980.0    2018.0  POLYGON ((-0.23868 5.60044, -0.23778 5.59991, ...  \n",
      "17  120000.0    2016.0  POLYGON ((-0.24571 5.57427, -0.24701 5.57208, ...  \n",
      "18   25000.0    2016.0  POLYGON ((-0.25289 5.52623, -0.25184 5.52880, ...  \n",
      "19   60000.0    2016.0  POLYGON ((-0.26350 5.59801, -0.26082 5.60092, ...  \n",
      "20   96000.0    2016.0  POLYGON ((-0.20870 5.61549, -0.20069 5.61660, ...  \n",
      "21  125000.0    2016.0  POLYGON ((-0.17795 5.64063, -0.17741 5.64079, ...  \n",
      "22  250000.0    2016.0  POLYGON ((-0.27838 5.52499, -0.27873 5.52519, ...  \n",
      "23    7000.0    2016.0  POLYGON ((-0.25419 5.59783, -0.25014 5.60012, ...  \n",
      "24  144000.0    2016.0  POLYGON ((-0.25918 5.55171, -0.25916 5.55411, ...  \n",
      "25   12000.0    2016.0  POLYGON ((-0.23631 5.58262, -0.23627 5.58456, ...  \n",
      "26    7500.0    2017.0  POLYGON ((-0.18833 5.58565, -0.18809 5.58446, ...  \n",
      "27   60000.0    2016.0  POLYGON ((-0.22448 5.56627, -0.22744 5.56365, ...  \n",
      "28   25600.0    2016.0  POLYGON ((-0.25149 5.58631, -0.25003 5.58631, ...  \n",
      "29     900.0    2016.0  POLYGON ((-0.23753 5.53382, -0.23757 5.53386, ...  \n",
      "30    2000.0    2018.0  POLYGON ((-0.22052 5.55036, -0.22134 5.55111, ...  \n",
      "31    7500.0    2018.0  POLYGON ((-0.23745 5.53369, -0.23518 5.53423, ...  \n",
      "32    9600.0    2016.0  POLYGON ((-0.20520 5.59238, -0.20615 5.59128, ...  \n",
      "33  141400.0    2016.0  POLYGON ((-0.26580 5.59491, -0.26469 5.59645, ...  \n",
      "34   15000.0    2016.0  POLYGON ((-0.19367 5.59850, -0.19365 5.59835, ...  \n"
     ]
    }
   ],
   "source": [
    "slum_zones = gpd.read_file(\"data/kyc_cln_data/kyc_cln_data_Accra_Ghana/kyc_cln_data_Accra_Ghana.shp\")\n",
    "print(slum_zones)"
   ]
  },
  {
   "cell_type": "code",
   "execution_count": null,
   "metadata": {},
   "outputs": [],
   "source": []
  }
 ],
 "metadata": {
  "kernelspec": {
   "display_name": "remote-sensing-landuse",
   "language": "python",
   "name": "python3"
  },
  "language_info": {
   "codemirror_mode": {
    "name": "ipython",
    "version": 3
   },
   "file_extension": ".py",
   "mimetype": "text/x-python",
   "name": "python",
   "nbconvert_exporter": "python",
   "pygments_lexer": "ipython3",
   "version": "3.8.15"
  },
  "orig_nbformat": 4,
  "vscode": {
   "interpreter": {
    "hash": "39f9f1f065b5771fa159c3adde0966191b6d7c113f68f4d93de249481ae639bc"
   }
  }
 },
 "nbformat": 4,
 "nbformat_minor": 2
}
