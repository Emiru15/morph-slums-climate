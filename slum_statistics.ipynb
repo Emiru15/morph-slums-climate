{
 "cells": [
  {
   "cell_type": "code",
   "execution_count": null,
   "metadata": {},
   "outputs": [],
   "source": [
    "import geopandas as gpd\n",
    "import matplotlib.pyplot as plt\n",
    "import pandas as pd\n",
    "import glob\n",
    "# from rasterstats import zonal_stats"
   ]
  },
  {
   "cell_type": "code",
   "execution_count": null,
   "metadata": {},
   "outputs": [],
   "source": [
    "def city_stats(data):\n",
    "    # Data I need\n",
    "    # 1. Majority cluster of each zone\n",
    "    # 2. Majority cluster of each city (all zones)\n",
    "    # 3. Percentages of each zone\n",
    "    # 4. Percentages of each city\n",
    "    histos = data.iloc[:, 2:]\n",
    "    majority = histos.idxmax(axis=1)\n",
    "    maj_count = majority.value_counts()\n",
    "\n",
    "    perc_list = pd.DataFrame()\n",
    "    for index, row in histos.iterrows():\n",
    "        percentage = (row / row.sum()) * 100\n",
    "        perc_list = pd.concat([perc_list, percentage], axis=1)\n",
    "    perc_list = perc_list.T\n",
    "\n",
    "    city_sum = perc_list.sum()\n",
    "    city_perc = (city_sum / city_sum.sum()) * 100\n",
    "\n",
    "    return majority, maj_count, perc_list, city_perc"
   ]
  },
  {
   "cell_type": "code",
   "execution_count": null,
   "metadata": {},
   "outputs": [],
   "source": [
    "slum_zones = gpd.read_file(\"data/zonal_statistics/capetown_bisecting_5_histogram.dbf\")\n",
    "print(slum_zones)"
   ]
  },
  {
   "cell_type": "code",
   "execution_count": null,
   "metadata": {},
   "outputs": [],
   "source": [
    "cols = ['Settlement', 'Population', 'kyc_pop', 'HISTO_0', 'HISTO_1', 'HISTO_2', 'HISTO_3', 'HISTO_4', 'HISTO_5']\n",
    "city_data_list = []\n",
    "city_dict_list = []\n",
    "\n",
    "for filepath in glob.iglob(\"data/zonal_statistics/*.dbf\"):\n",
    "    shapefile = gpd.read_file(filepath)\n",
    "    data = shapefile.loc[:, shapefile.columns.isin(cols)]\n",
    "\n",
    "    city_data_list.append(data)\n",
    "    \n",
    "    majority, maj_count, perc_list, city_perc = city_stats(data)\n",
    "    city_dict = {'majority': majority, \n",
    "                  'maj_count': maj_count, \n",
    "                  'perc_list': perc_list, \n",
    "                  'city_perc': city_perc}\n",
    "    \n",
    "    city_dict_list.append(city_dict)\n",
    "print(city_data_list[10])"
   ]
  },
  {
   "cell_type": "code",
   "execution_count": null,
   "metadata": {},
   "outputs": [],
   "source": [
    "# 0. accra\n",
    "# 1. athiriver\n",
    "# 2. capetown\n",
    "# 3 daressalaam\n",
    "# 4. kampala\n",
    "# 5. kisumu\n",
    "# 6. lagos\n",
    "# 7. malabon\n",
    "# 8. portharcourt\n",
    "# 9. nairobi east\n",
    "# 10. nairobi center\n",
    "\n",
    "for city in city_dict_list:\n",
    "    maj_indices = [index for (index, item) in enumerate(list(city.values())[0]) if item == 'HISTO_4']\n",
    "    \n",
    "\n",
    "# Parses through dictionary list and grabs all indices with HISTO_x as majority\n",
    "# replace k with numbers above corresponding to domains\n",
    "k=3\n",
    "maj_indices = [index for (index, item) in enumerate(list(city_dict_list[k].values())[0]) if item == 'HISTO_0']\n",
    "print(maj_indices)\n",
    "# For grabbing population\n",
    "accrahisto3 = [city_data_list[k].loc[i] for i in maj_indices]\n",
    "popsum = 0\n",
    "for city in accrahisto3:\n",
    "    #some files use population some use kyc_pop\n",
    "    popsum = popsum + int(city['Population'])\n",
    "print(popsum)\n",
    "\n",
    "print(list(city_dict_list[k].values())[3])"
   ]
  },
  {
   "cell_type": "code",
   "execution_count": null,
   "metadata": {},
   "outputs": [],
   "source": [
    "city_data_list[0]['Population']"
   ]
  }
 ],
 "metadata": {
  "kernelspec": {
   "display_name": "remote-sensing-landuse",
   "language": "python",
   "name": "python3"
  },
  "language_info": {
   "codemirror_mode": {
    "name": "ipython",
    "version": 3
   },
   "file_extension": ".py",
   "mimetype": "text/x-python",
   "name": "python",
   "nbconvert_exporter": "python",
   "pygments_lexer": "ipython3",
   "version": "3.8.15 | packaged by conda-forge | (default, Nov 22 2022, 08:46:39) \n[GCC 10.4.0]"
  },
  "orig_nbformat": 4,
  "vscode": {
   "interpreter": {
    "hash": "39f9f1f065b5771fa159c3adde0966191b6d7c113f68f4d93de249481ae639bc"
   }
  }
 },
 "nbformat": 4,
 "nbformat_minor": 2
}
