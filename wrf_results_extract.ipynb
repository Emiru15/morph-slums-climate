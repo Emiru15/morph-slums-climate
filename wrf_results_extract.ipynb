{
 "cells": [
  {
   "cell_type": "code",
   "execution_count": null,
   "metadata": {},
   "outputs": [],
   "source": [
    "import os\n",
    "import xarray as xr\n",
    "import matplotlib.pyplot as plt\n",
    "import pandas as pd\n",
    "import pytz\n",
    "from datetime import datetime, timedelta\n",
    "from time import sleep\n",
    "import netCDF4 as nc\n",
    "import h5netcdf\n",
    "import glob\n",
    "# import cf_xarray as cfxr\n",
    "import shapely\n",
    "# import xesmf as xe\n",
    "import geopandas as gpd\n",
    "import numpy as np\n",
    "import cartopy.feature as cfeature\n",
    "import cartopy.crs as ccrs   \n",
    "from matplotlib.pyplot import figure"
   ]
  },
  {
   "attachments": {},
   "cell_type": "markdown",
   "metadata": {},
   "source": [
    "# ERA5"
   ]
  },
  {
   "cell_type": "code",
   "execution_count": null,
   "metadata": {},
   "outputs": [],
   "source": [
    "df = xr.open_dataset('/home/mendozaemir/research/remote-sensing-landuse/data/ERA5_reanalysis_nairobi_d01')\n",
    "df\n",
    "\n",
    "lat=df.latitude\n",
    "lon=df.longitude\n",
    "precip=df.tp\n",
    "print(precip)\n",
    "\n",
    "precip_sum = precip.sum(dim='time')\n",
    "print(precip_sum)\n"
   ]
  },
  {
   "cell_type": "code",
   "execution_count": null,
   "metadata": {},
   "outputs": [],
   "source": [
    "ax = plt.axes(projection=ccrs.PlateCarree())\n",
    "\n",
    "cf = plt.contourf(lon, lat, precip_sum*1000, cmap='jet')\n",
    "cb = plt.colorbar(cf, fraction=0.0235, pad=0.05)\n",
    "cb.set_label('mm', fontsize=15, rotation=0, loc='bottom')\n",
    "\n",
    "ax.add_feature(cfeature.COASTLINE)\n",
    "\n",
    "plt.show()"
   ]
  },
  {
   "attachments": {},
   "cell_type": "markdown",
   "metadata": {},
   "source": [
    "# CMORPH"
   ]
  },
  {
   "cell_type": "code",
   "execution_count": null,
   "metadata": {},
   "outputs": [],
   "source": [
    "cmorph_list = []\n",
    "for filepath in glob.iglob(\"/home/mendozaemir/research/remote-sensing-landuse/data/cmorph/*.nc\"):\n",
    "    ncfile = xr.open_dataset(filepath, chunks = {'time': 10})\n",
    "    cmorph_list.append(ncfile)\n"
   ]
  },
  {
   "cell_type": "code",
   "execution_count": null,
   "metadata": {},
   "outputs": [],
   "source": [
    "lat = cmorph_list[5].lat\n",
    "lon = cmorph_list[5].lon\n",
    "time = cmorph_list[23].time\n",
    "print(lat)\n",
    "print(lon)\n",
    "cmorph = 0\n",
    "for ds in cmorph_list:\n",
    "    cmorph_hr = ds.cmorph.sum(axis=0)\n",
    "    cmorph += cmorph_hr.values\n",
    "\n"
   ]
  },
  {
   "attachments": {},
   "cell_type": "markdown",
   "metadata": {},
   "source": [
    "# NAIROBI, KENYA"
   ]
  },
  {
   "cell_type": "code",
   "execution_count": null,
   "metadata": {},
   "outputs": [],
   "source": [
    "# Domain 1\n",
    "# 36.749, -1.282\n",
    "# 30.136 ~ 43.362, -7.869 ~ 5.323\n",
    "\n",
    "# 6.613, -6.587~+6.605\n",
    "\n",
    "# Domain 3\n",
    "# 36.749, -1.282\n",
    "# 35.987 ~ 37.323, -2.044 ~ -0.708\n",
    "# -0.762 ~ +0.574, -0.762 ~ +0.574\n",
    "\n",
    "\n",
    "ax = plt.axes(projection=ccrs.PlateCarree())\n",
    "\n",
    "lonbounds = (lon > 35.987) & (lon < 37.323)\n",
    "latbounds = (lat > -2.044) & (lat < -0.708)\n",
    "lonrange = lon[lonbounds]\n",
    "latrange = lat[latbounds]\n",
    "lonindices = np.where(lonbounds)[0]\n",
    "latindices = np.where(latbounds)[0]\n",
    "\n",
    "# code to control scale of contourf -> levels=np.linspace(0,20)\n",
    "cf = plt.contourf(lonrange, latrange, cmorph[latindices, lonindices[:, np.newaxis]].T, cmap='jet')\n",
    "cb = plt.colorbar(cf, fraction=0.0235, pad=0.05)\n",
    "cb.set_label('mm', fontsize=15, rotation=0, loc='bottom')\n",
    "\n",
    "ax.add_feature(cfeature.COASTLINE)\n",
    "\n",
    "plt.show()"
   ]
  },
  {
   "attachments": {},
   "cell_type": "markdown",
   "metadata": {},
   "source": [
    "# Lagos, Nigeria"
   ]
  },
  {
   "cell_type": "code",
   "execution_count": null,
   "metadata": {},
   "outputs": [],
   "source": [
    "# Lagos Nigeria: 3.351209, 6.421560\n",
    "\n",
    "ax = plt.axes(projection=ccrs.PlateCarree())\n",
    "\n",
    "\n",
    "lonbounds = (lon > -3.262) & (lon < 9.964)\n",
    "latbounds = (lat > -0.165) & (lat < 13.027)\n",
    "lonrange = lon[lonbounds]\n",
    "latrange = lat[latbounds]\n",
    "lonindices = np.where(lonbounds)[0]\n",
    "latindices = np.where(latbounds)[0]\n",
    "cf = plt.contourf(lonrange, latrange, cmorph[latindices,lonindices[:, np.newaxis]].T, cmap='jet')\n",
    "cb = plt.colorbar(cf, fraction=0.0235, pad=0.05)\n",
    "cb.set_label('mm', fontsize=15, rotation=0, loc='bottom')\n",
    "\n",
    "ax.add_feature(cfeature.COASTLINE)\n",
    "\n",
    "plt.show()"
   ]
  },
  {
   "attachments": {},
   "cell_type": "markdown",
   "metadata": {},
   "source": [
    "# Accra, Ghana"
   ]
  },
  {
   "cell_type": "code",
   "execution_count": null,
   "metadata": {},
   "outputs": [],
   "source": [
    "# DOMAIN 3 # -0.762 ~ +0.574, -0.762 ~ +0.574\n",
    "# Accra Ghana: -0.1870, 5.6037\n",
    "# 6.613, -6.587~+6.605\n",
    "# -6.8 ~ +6.426, -0.9833 ~ 12.2087\n",
    "\n",
    "# Malabon PH: 120.960334, 14.665835\n",
    "# DOMAIN 1 114.36 ~ 127.56, 8.08 ~ 21.28\n",
    "# DOMAIN 3 \n",
    "ax = plt.axes(projection=ccrs.PlateCarree())\n",
    "\n",
    "# For Ghana, longitude is from ranges 0 to 359. might need to change how to capture areas nearing the edge values\n",
    "lonbounds = (lon > 120.20) & (lon < 121.53)\n",
    "latbounds = (lat > 13.908) & (lat < 15.244)\n",
    "lonrange = lon[lonbounds]\n",
    "latrange = lat[latbounds]\n",
    "lonindices = np.where(lonbounds)[0]\n",
    "latindices = np.where(latbounds)[0]\n",
    "\n",
    "# code to control scale of contourf -> levels=np.linspace(0,20)\n",
    "cf = plt.contourf(lonrange, latrange, cmorph[latindices,lonindices[:, np.newaxis]].T, cmap='jet')\n",
    "cb = plt.colorbar(cf, fraction=0.0235, pad=0.05)\n",
    "cb.set_label('mm', fontsize=15, rotation=0, loc='bottom')\n",
    "\n",
    "ax.add_feature(cfeature.COASTLINE)\n",
    "\n",
    "plt.show()"
   ]
  },
  {
   "attachments": {},
   "cell_type": "markdown",
   "metadata": {},
   "source": [
    "# WRF RESULTS"
   ]
  },
  {
   "cell_type": "code",
   "execution_count": null,
   "metadata": {},
   "outputs": [],
   "source": [
    "wrf_file = '/home/mendozaemir/research/remote-sensing-landuse/data/wrfout_d01_2021-04-01_00:00:00'\n",
    "df_wrf = xr.open_dataset(wrf_file)\n",
    "lat_wrf=df_wrf.XLAT\n",
    "lon_wrf=df_wrf.XLONG\n",
    "precip=df_wrf.RAINNC + df_wrf.RAINC \n",
    "print(precip[714].shape)"
   ]
  },
  {
   "cell_type": "code",
   "execution_count": null,
   "metadata": {},
   "outputs": [],
   "source": [
    "ax = plt.axes(projection=ccrs.PlateCarree())\n",
    "\n",
    "cf = plt.contourf(lon_wrf[0], lat_wrf[0], precip[714], cmap='jet')\n",
    "cb = plt.colorbar(cf, fraction=0.0235, pad=0.05)\n",
    "cb.set_label('mm', fontsize=15, rotation=0, loc='bottom')\n",
    "\n",
    "ax.add_feature(cfeature.COASTLINE)\n",
    "\n",
    "plt.show()"
   ]
  },
  {
   "cell_type": "code",
   "execution_count": null,
   "metadata": {},
   "outputs": [],
   "source": [
    "# try to download contourf plot as tif to visualize in qgis. currently dismissed because rainc value\n",
    "# in nairobi d03 is 0, but i eventually need the rainc+rainnc values\n",
    "for c in cf.collections:\n",
    "    c.set_rasterized(True)\n",
    "\n",
    "plt.savefig('do3_precip.tif', dpi=100)"
   ]
  },
  {
   "cell_type": "code",
   "execution_count": null,
   "metadata": {},
   "outputs": [],
   "source": [
    "def generate_times(df):\n",
    "    times = df.variables['XTIME']\n",
    "    times = nc.num2date(times[:],times.units,only_use_cftime_datetimes=False)\n",
    "    return times\n",
    "\n",
    "def timeseries(ifil,axs,label):\n",
    "    var1 = df.variables['RAINNC'][:,:,:]\n",
    "    var2 = df.variables['RAINC'][:,:,:]\n",
    "    var = var1+var2\n",
    "    var = np.nanmean(var,axis=(1,2))\n",
    "    var = np.roll(var,-1,axis=0)-var\n",
    "    times = generate_times(df)\n",
    "    axs.plot(times[:-1],var[:-1],label=label)\n",
    "    return axs\n"
   ]
  },
  {
   "attachments": {},
   "cell_type": "markdown",
   "metadata": {},
   "source": [
    "# Maximum Monthly Rainfall by hour"
   ]
  },
  {
   "cell_type": "code",
   "execution_count": null,
   "metadata": {},
   "outputs": [],
   "source": [
    "precip_frm = np.nanmax(precip,axis=(1,2))\n",
    "precip_frm = np.roll(precip_frm,-1,axis=0)-precip_frm\n",
    "print(precip_frm.max())\n",
    "times = df_wrf.XTIME\n",
    "\n",
    "# enddate specifies the date range to be plotted (hours since starting point).\n",
    "enddate = 714\n",
    "fig, ax = plt.subplots() \n",
    "ax.plot(times[:enddate],precip_frm[:enddate])\n",
    "fig.autofmt_xdate()"
   ]
  },
  {
   "attachments": {},
   "cell_type": "markdown",
   "metadata": {},
   "source": [
    "# Average Monthly"
   ]
  },
  {
   "cell_type": "code",
   "execution_count": null,
   "metadata": {},
   "outputs": [],
   "source": [
    "precip_frm = np.nanmean(precip,axis=(1,2))\n",
    "precip_frm = np.roll(precip_frm,-1,axis=0)-precip_frm\n",
    "print(precip_frm.max())\n",
    "print(precip_frm[:714].mean())\n",
    "times = df_wrf.XTIME\n",
    "\n",
    "# enddate specifies the date range to be plotted (hours since starting point).\n",
    "enddate = 714\n",
    "fig, ax = plt.subplots() \n",
    "ax.plot(times[:enddate],precip_frm[:enddate])\n",
    "fig.autofmt_xdate()"
   ]
  },
  {
   "attachments": {},
   "cell_type": "markdown",
   "metadata": {},
   "source": [
    "# Maximum Daily Rainfall"
   ]
  },
  {
   "cell_type": "code",
   "execution_count": null,
   "metadata": {},
   "outputs": [],
   "source": [
    "precip_frm = np.nanmax(precip,axis=(1,2))\n",
    "precip_frm = np.roll(precip_frm,-1,axis=0)-precip_frm\n",
    "precip_split = np.array_split(precip_frm, 30)\n",
    "\n",
    "daily_max_list = []\n",
    "for day in precip_split:\n",
    "    daily_max = day.max()\n",
    "    daily_max_list.append(daily_max)\n",
    "\n",
    "times = df_wrf.XTIME\n",
    "# enddate specifies the date range to be plotted (hours since starting point).\n",
    "enddate = 714\n",
    "fig, ax = plt.subplots() \n",
    "ax.plot(times[0:-1:24],daily_max_list)\n",
    "fig.autofmt_xdate()\n",
    "print(max(daily_max_list))\n"
   ]
  },
  {
   "cell_type": "markdown",
   "metadata": {},
   "source": []
  }
 ],
 "metadata": {
  "kernelspec": {
   "display_name": "remote-sensing-landuse",
   "language": "python",
   "name": "python3"
  },
  "language_info": {
   "codemirror_mode": {
    "name": "ipython",
    "version": 3
   },
   "file_extension": ".py",
   "mimetype": "text/x-python",
   "name": "python",
   "nbconvert_exporter": "python",
   "pygments_lexer": "ipython3",
   "version": "3.8.15 | packaged by conda-forge | (default, Nov 22 2022, 08:46:39) \n[GCC 10.4.0]"
  },
  "orig_nbformat": 4,
  "vscode": {
   "interpreter": {
    "hash": "39f9f1f065b5771fa159c3adde0966191b6d7c113f68f4d93de249481ae639bc"
   }
  }
 },
 "nbformat": 4,
 "nbformat_minor": 2
}
