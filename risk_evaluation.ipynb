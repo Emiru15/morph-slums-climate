{
 "cells": [
  {
   "cell_type": "code",
   "execution_count": null,
   "metadata": {},
   "outputs": [],
   "source": [
    "import numpy as np \n",
    "import matplotlib.pyplot as plt \n",
    "import pandas as pd "
   ]
  },
  {
   "attachments": {},
   "cell_type": "markdown",
   "metadata": {},
   "source": [
    "# IDF Values"
   ]
  },
  {
   "cell_type": "code",
   "execution_count": null,
   "metadata": {},
   "outputs": [],
   "source": [
    "# create data \n",
    "df = pd.DataFrame([['2', 24.6, 99.16, 159.4, 109.54, 27.14, 182.42, 18.33, 174.38], \n",
    "                   ['3', 37.12, 109.04, 179.19, 121.05, 28.87, 196.65, 20.03, 189.29], \n",
    "                   ['5', 40.3, 121.48, 204.12, 135.55, 31.06, 214.58, 22.17, 208.08], \n",
    "                   ['10', 44.62, 138.36, 237.94, 155.23, 34.03, 238.91, 25.08, 233.57]], \n",
    "                  columns=['Return Periods', 'Accra', 'Athi River', 'Dar es salaam', 'Kampala', 'Lagos', 'Malabon', 'Nairobi', 'Port Harcourt']) \n",
    "# view data \n",
    "print(df) \n",
    "  \n",
    "# plot grouped bar chart \n",
    "df.plot(x='Return Periods', \n",
    "        kind='bar', \n",
    "        stacked=False, \n",
    "        title='12-hour Duration IDF Values').legend(loc='center left', bbox_to_anchor=(1.0, 0.5))"
   ]
  },
  {
   "attachments": {},
   "cell_type": "markdown",
   "metadata": {},
   "source": [
    "# Flood Risk"
   ]
  },
  {
   "cell_type": "code",
   "execution_count": null,
   "metadata": {},
   "outputs": [],
   "source": [
    "# create data \n",
    "df = pd.DataFrame([['2', 13.86, 17.57, 19.99, 18.77, 16.29, 25.01, 13.3, 13.13, 21.17], \n",
    "                   ['3', 15.36, 18, 20.59, 19.25, 16.54, 25.49, 13.6, 13.42, 21.61], \n",
    "                   ['5', 15.68, 18.49, 21.27, 19.8, 16.85, 26.05, 13.95, 13.77, 22.12], \n",
    "                   ['10', 16.08, 19.11, 22.1, 20.48, 17.24, 26.76, 14.39, 14.2, 22.78]], \n",
    "                  columns=['Return Periods', 'Accra', 'Athi River', 'Dar es salaam', 'Kampala', 'Lagos', 'Malabon', 'Nairobi West', 'Nairobi East', 'Port Harcourt']) \n",
    "# view data \n",
    "print(df) \n",
    "  \n",
    "# plot grouped bar chart \n",
    "df.plot(x='Return Periods', \n",
    "        kind='bar', \n",
    "        stacked=False, \n",
    "        title='12-hour Duration Flood Risk Values').legend(loc='center left', bbox_to_anchor=(1.0, 0.5))"
   ]
  },
  {
   "attachments": {},
   "cell_type": "markdown",
   "metadata": {},
   "source": [
    "# UTCI Risk"
   ]
  },
  {
   "cell_type": "code",
   "execution_count": null,
   "metadata": {},
   "outputs": [],
   "source": [
    "# create data \n",
    "df = pd.DataFrame([[90.06,50.17,85.43,65.55,141.20,103.87,74.55,75.15,96.94]], \n",
    "                  columns=['Accra', 'Athi River', 'Dar es salaam', 'Kampala', 'Lagos', 'Malabon', 'Nairobi West', 'Nairobi East', 'Port Harcourt']) \n",
    "# view data \n",
    "print(df) \n",
    "  \n",
    "# plot grouped bar chart \n",
    "df.plot(kind='bar', \n",
    "        stacked=False, \n",
    "        title='Risk to Extreme Heat Values').legend(loc='center left', bbox_to_anchor=(1.0, 0.5))"
   ]
  },
  {
   "attachments": {},
   "cell_type": "markdown",
   "metadata": {},
   "source": [
    "# pwndvi"
   ]
  },
  {
   "cell_type": "code",
   "execution_count": null,
   "metadata": {},
   "outputs": [],
   "source": [
    "# create data \n",
    "df = pd.DataFrame([[0.685, 0.092, 0.012, -0.188, 0.971, 0.738, 0.428, 0.632, 0.301]], \n",
    "                  columns=['Accra', 'Athi River', 'Dar es salaam', 'Kampala', 'Lagos', 'Malabon', 'Nairobi West', 'Nairobi East', 'Port Harcourt']) \n",
    "# view data \n",
    "print(df) \n",
    "  \n",
    "# plot grouped bar chart \n",
    "df.plot(kind='bar', \n",
    "        stacked=False, \n",
    "        title='Mean NDISI of slum clusters').legend(loc='center left', bbox_to_anchor=(1.0, 0.5))"
   ]
  },
  {
   "attachments": {},
   "cell_type": "markdown",
   "metadata": {},
   "source": [
    "# STDEV"
   ]
  },
  {
   "cell_type": "code",
   "execution_count": null,
   "metadata": {},
   "outputs": [],
   "source": [
    "ndisi = [(2-0.202)**5, (2-0.326)**5,(2-0.256)**5,(2-0.332)**5,(2-0.174)**5,(2-0.285)**5,(2-0.236)**5,(2-0.128)**5]\n",
    "mean = sum(ndisi)/len(ndisi)\n",
    "variance = sum([((x - mean) ** 2) for x in ndisi]) / len(ndisi)\n",
    "\n",
    "res = variance ** 0.5\n",
    " \n",
    "# Printing result \n",
    "print(\"Standard deviation of sample is : \" + str(res)) "
   ]
  },
  {
   "cell_type": "code",
   "execution_count": null,
   "metadata": {},
   "outputs": [],
   "source": [
    "idf_squared = [4.96, 9.96, 12.63, 10.47, 5.21, 13.51, 4.28, 13.21]\n",
    "ndisi = [(2+0.685)**2.5, (2+0.092)**2.5, (2+0.012)**2.5, (2+-0.188)**2.5, (2+0.971)**2.5, (2+0.738)**2.5, (2+0.428)**2.5, (2+0.632)**2.5, (2+0.301)**2.5]\n",
    "mean = sum(ndisi)/len(ndisi)\n",
    "variance = sum([((x - mean) ** 2) for x in ndisi]) / len(ndisi)\n",
    "\n",
    "res = variance ** 0.5\n",
    " \n",
    "# Printing result \n",
    "print(\"Standard deviation of sample is : \" + str(res)) "
   ]
  },
  {
   "attachments": {},
   "cell_type": "markdown",
   "metadata": {},
   "source": [
    "# Min-max Scaling"
   ]
  },
  {
   "cell_type": "code",
   "execution_count": null,
   "metadata": {},
   "outputs": [],
   "source": [
    "utci = np.array([158, 60, 140, 101, 246, 143, 62, 258])\n",
    "\n",
    "utcistd = (utci - utci.min()) / (utci.max() - utci.min())\n",
    "\n",
    "print(1+utcistd)"
   ]
  },
  {
   "attachments": {},
   "cell_type": "markdown",
   "metadata": {},
   "source": [
    "# Combined risk values"
   ]
  },
  {
   "cell_type": "code",
   "execution_count": null,
   "metadata": {},
   "outputs": [],
   "source": [
    "# create data\n",
    "data = {'Flood': [3.78, 3.15, 6.49, 3.77, 7.92, 10.68, 3.98, 4.09, 6.38],\n",
    "        'Extreme Heat': [5.41, 2.12, 4.89, 2.93, 14.63, 7.59, 4.02, 4.13, 6.54]} \n",
    "\n",
    "df = pd.DataFrame(data, \n",
    "                  columns=['Flood', 'Extreme Heat'], index=['Accra', 'Athi River', 'Dar es salaam', 'Kampala', 'Lagos', 'Malabon', 'Nairobi West', 'Nairobi East', 'Port Harcourt'])\n",
    "# view data \n",
    "print(df)\n",
    "df_sorted = df.loc[df.sum(axis=1).sort_values().index]\n",
    "# plot grouped bar chart \n",
    "\n",
    "df_sorted.plot(kind='barh', \n",
    "        stacked=True, \n",
    "        title='Total Risk Value Comparison (Scaled)').legend(loc='center left', bbox_to_anchor=(1.0, 0.5))"
   ]
  },
  {
   "attachments": {},
   "cell_type": "markdown",
   "metadata": {},
   "source": [
    "# Scaled heat risk"
   ]
  },
  {
   "cell_type": "code",
   "execution_count": null,
   "metadata": {},
   "outputs": [],
   "source": [
    "# create data \n",
    "df = pd.DataFrame([[5.41, 2.12, 4.89, 2.93, 14.63, 7.59, 4.02, 4.13, 6.54]], \n",
    "                  columns=['Accra', 'Athi River', 'Dar es salaam', 'Kampala', 'Lagos', 'Malabon', 'Nairobi West', 'Nairobi East', 'Port Harcourt'])\n",
    "# view data \n",
    "print(df) \n",
    "  \n",
    "# plot grouped bar chart \n",
    "df.plot(kind='bar', \n",
    "        stacked=False, \n",
    "        title='Extreme Heat Risk Values (Scaled)').legend(loc='center left', bbox_to_anchor=(1.0, 0.5))"
   ]
  },
  {
   "attachments": {},
   "cell_type": "markdown",
   "metadata": {},
   "source": [
    "# Scaled flood risk"
   ]
  },
  {
   "cell_type": "code",
   "execution_count": null,
   "metadata": {},
   "outputs": [],
   "source": [
    "# create data \n",
    "df = pd.DataFrame([[3.78, 3.15, 6.49, 3.77, 7.92, 10.68, 3.98, 4.09, 6.38]], \n",
    "                  columns=['Accra', 'Athi River', 'Dar es salaam', 'Kampala', 'Lagos', 'Malabon', 'Nairobi West', 'Nairobi East', 'Port Harcourt'])\n",
    "# view data \n",
    "print(df) \n",
    "  \n",
    "# plot grouped bar chart \n",
    "df.plot(kind='barh', \n",
    "        stacked=False, \n",
    "        title='12-hour Duration Flood Risk Values (Scaled)').legend(loc='center left', bbox_to_anchor=(1.0, 0.5))"
   ]
  },
  {
   "cell_type": "code",
   "execution_count": null,
   "metadata": {},
   "outputs": [],
   "source": [
    "data = {'12-hour': [3.78, 3.15, 6.49, 3.77, 7.92, 10.68, 3.98, 4.09, 6.38],\n",
    "        '24-hour': [3.96, 2.86, 5.86, 3.31, 7.99, 10.68, 3.98, 4.09, 5.4]} \n",
    "\n",
    "df = pd.DataFrame(data, \n",
    "                  columns=['12-hour', '24-hour'], index=['Accra', 'Athi River', 'Dar es salaam', 'Kampala', 'Lagos', 'Malabon', 'Nairobi West', 'Nairobi East', 'Port Harcourt'])\n",
    "# create data \n",
    "# view data \n",
    "print(df) \n",
    "df_sorted = df.sort_values(by='24-hour')\n",
    "# plot grouped bar chart \n",
    "df_sorted.plot(kind='barh', \n",
    "        stacked=False, \n",
    "        title='12 and 24-hour Duration Flood Risk Values (Scaled)').legend(loc='center left', bbox_to_anchor=(1.0, 0.5))"
   ]
  },
  {
   "cell_type": "code",
   "execution_count": null,
   "metadata": {},
   "outputs": [],
   "source": [
    "idf = np.array([47.45, 107.92, 182.98, 112.86, 39.5, 258.23, 25.97, 178.04])\n",
    "\n",
    "idfstd = (idf - idf.min()) / (idf.max() - idf.min())\n",
    "\n",
    "print(idfstd)"
   ]
  },
  {
   "cell_type": "code",
   "execution_count": null,
   "metadata": {},
   "outputs": [],
   "source": [
    "spd = np.array([14853, 5651, 24461, 14478, 50849, 40412, 19529, 25957, 9615])\n",
    "\n",
    "spdstd = (spd - spd.min()) / (spd.max() - spd.min())\n",
    "\n",
    "print(1+spdstd)"
   ]
  },
  {
   "cell_type": "code",
   "execution_count": null,
   "metadata": {},
   "outputs": [],
   "source": [
    "ndisis = np.array([0.685-0.451, 0.092-0.174, 0.012-0.091, -0.188+0.034, 0.971-0.096, 0.738-0.086, 0.428-0.006, 0.632-0.436, 0.301-0.472])\n",
    "\n",
    "ndisisstd = (ndisis - ndisis.min()) / (ndisis.max() - ndisis.min())\n",
    "\n",
    "print(1+ndisisstd)"
   ]
  },
  {
   "attachments": {},
   "cell_type": "markdown",
   "metadata": {},
   "source": [
    "# Land Cover"
   ]
  },
  {
   "cell_type": "code",
   "execution_count": null,
   "metadata": {},
   "outputs": [],
   "source": [
    "\n",
    "\n",
    "# create data \n",
    "df = pd.DataFrame([['Accra', 49548+29192, 288552,  78932], \n",
    "                   ['Athi River', 356751+55219,  29315,    940], \n",
    "                   ['Dar es salaam', 146089+34530, 178739,  82867], \n",
    "                   ['Kampala', 180980+102706, 134150,  23060], \n",
    "                   ['Lagos', 51385+15550, 138110, 235851], \n",
    "                   ['Malabon', 21181+7349, 126169,  98310], \n",
    "                    ['Nairobi West', 313626+46033,  81915,    651], \n",
    "                    ['Nairobi East', 234776+70202, 136477,    770], \n",
    "                    ['Port Harcourt', 232144+13434, 134259,  63719]], \n",
    "                    columns=['Land Cover', 'Non-Build-up', 'Build-up', 'Water']) \n",
    "# view data \n",
    "print(df) \n",
    "color = ['green', 'red', 'blue']\n",
    "# plot grouped bar chart \n",
    "plot = df.plot(x='Land Cover', \n",
    "        kind='barh', \n",
    "        color=color,\n",
    "        stacked=False, \n",
    "        title='Land Cover Comparison').legend(loc='center left', bbox_to_anchor=(1.0, 0.5))"
   ]
  },
  {
   "cell_type": "code",
   "execution_count": null,
   "metadata": {},
   "outputs": [],
   "source": []
  }
 ],
 "metadata": {
  "kernelspec": {
   "display_name": "remote-sensing-landuse",
   "language": "python",
   "name": "python3"
  },
  "language_info": {
   "codemirror_mode": {
    "name": "ipython",
    "version": 3
   },
   "file_extension": ".py",
   "mimetype": "text/x-python",
   "name": "python",
   "nbconvert_exporter": "python",
   "pygments_lexer": "ipython3",
   "version": "3.8.15 | packaged by conda-forge | (default, Nov 22 2022, 08:46:39) \n[GCC 10.4.0]"
  },
  "orig_nbformat": 4,
  "vscode": {
   "interpreter": {
    "hash": "39f9f1f065b5771fa159c3adde0966191b6d7c113f68f4d93de249481ae639bc"
   }
  }
 },
 "nbformat": 4,
 "nbformat_minor": 2
}
