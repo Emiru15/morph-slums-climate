{
 "cells": [
  {
   "cell_type": "code",
   "execution_count": 1,
   "metadata": {},
   "outputs": [],
   "source": [
    "import ee\n",
    "\n",
    "# Trigger the authentication flow.\n",
    "# ee.Authenticate()\n",
    "\n",
    "# Initialize the library.\n",
    "ee.Initialize()\n",
    "\n",
    "import geemap\n",
    "import json\n",
    "from ipyleaflet import GeoJSON, Marker, MarkerCluster\n",
    "import matplotlib.pyplot as plt\n",
    "import numpy as np\n",
    "from matplotlib.animation import FuncAnimation\n",
    "from skimage import exposure\n",
    "import cv2\n",
    "import os\n",
    "import datetime\n",
    "from dl_landsat import LANDSAT_8, apply_scale_factors_8, mask_clouds, export_to_drive, export_to_numpy"
   ]
  },
  {
   "cell_type": "code",
   "execution_count": 2,
   "metadata": {},
   "outputs": [
    {
     "data": {
      "application/vnd.jupyter.widget-view+json": {
       "model_id": "f5bf2dade6f447ef94cecb8d2746d479",
       "version_major": 2,
       "version_minor": 0
      },
      "text/plain": [
       "Map(center=[20, 0], controls=(WidgetControl(options=['position', 'transparent_bg'], widget=HBox(children=(Togg…"
      ]
     },
     "execution_count": 2,
     "metadata": {},
     "output_type": "execute_result"
    }
   ],
   "source": [
    "CITY_COORDS = [36.86905523581975, -1.2815372605877613]\n",
    "CITY = ee.Geometry.Point(CITY_COORDS) # Coord format: E, N \n",
    "\n",
    "YEAR = 2021\n",
    "\n",
    "Map = geemap.Map()\n",
    "\n",
    "Map"
   ]
  },
  {
   "cell_type": "code",
   "execution_count": 3,
   "metadata": {},
   "outputs": [
    {
     "name": "stdout",
     "output_type": "stream",
     "text": [
      "Data Available:  True\n",
      "Number of exported Months:\n",
      "27\n",
      "Images Exported:\n",
      "2014/01/24 11:00\n",
      "2014/02/09 11:00\n",
      "2014/02/25 10:59\n",
      "2014/02/09 11:00\n",
      "2014/02/25 10:59\n",
      "2013/04/11 11:03\n",
      "2014/04/14 10:59\n",
      "2013/04/11 11:03\n",
      "2013/05/13 11:01\n",
      "2014/04/14 10:59\n",
      "2014/05/16 10:58\n",
      "2013/10/04 11:00\n",
      "2013/10/20 11:00\n",
      "2013/11/05 11:00\n",
      "2013/11/21 11:00\n",
      "2014/10/07 10:59\n",
      "2014/10/23 10:59\n",
      "2013/11/05 11:00\n",
      "2013/11/21 11:00\n",
      "2013/12/07 11:00\n",
      "2013/12/23 11:00\n",
      "2014/12/10 10:59\n",
      "2014/12/26 10:59\n",
      "2013/12/07 11:00\n",
      "2013/12/23 11:00\n",
      "2014/12/10 10:59\n",
      "2014/12/26 10:59\n"
     ]
    }
   ],
   "source": [
    "RELEVANT_MONTHS_WINTER = [1, 2, 3, 4, 10, 11, 12]\n",
    "RELEVANT_MONTHS_SUMMER = [5, 6, 7, 8, 9]\n",
    "RELEVANT_MONTHS = RELEVANT_MONTHS_WINTER\n",
    "\n",
    "ls_read = None\n",
    "for month in RELEVANT_MONTHS:\n",
    "    if ls_read is None:\n",
    "        ls_read = (ee.ImageCollection(LANDSAT_8)\n",
    "                   .map(apply_scale_factors_8)\n",
    "                   .filterBounds(CITY)\n",
    "                   .filter(ee.Filter.calendarRange(YEAR, YEAR+1, \"year\"))\n",
    "                   .filter(ee.Filter.calendarRange(month, month+1, \"month\"))\n",
    "                   .map(mask_clouds)\n",
    "                   )\n",
    "    else:\n",
    "        ls_read_ = (ee.ImageCollection(LANDSAT_8)\n",
    "                   .map(apply_scale_factors_8)\n",
    "                   .filterBounds(CITY)\n",
    "                   .filter(ee.Filter.calendarRange(YEAR, YEAR+1, \"year\"))\n",
    "                   .filter(ee.Filter.calendarRange(month, month+1, \"month\"))\n",
    "                   .map(mask_clouds)\n",
    "                   )\n",
    "        ls_read = ls_read.merge(ls_read_)\n",
    "\n",
    "ls_median = ls_read.median()\n",
    "\n",
    "data_available = ls_median.getInfo() is not None\n",
    "\n",
    "print(\"Data Available: \", data_available)\n",
    "if data_available:\n",
    "    print(\"Number of exported Months:\")\n",
    "    print(ls_read.size().getInfo())\n",
    "    time_stamps = ls_read.aggregate_array(\"system:time_start\").getInfo()\n",
    "    dates = list(\n",
    "        map(lambda x: datetime.datetime.fromtimestamp(x / 1e3).strftime(\"%Y/%m/%d %H:%M\"), time_stamps))\n",
    "    print(\"Images Exported:\")\n",
    "    for date in dates:\n",
    "        print(date)\n",
    "    vis_params_wc = {\"bands\": ['Map']}\n",
    "    vis_params_rgb = {'bands': ['B3', \"B2\", \"B1\"], \"min\": 0, \"max\": 0.3, 'opacity': 1.0}\n",
    "    Map.centerObject(CITY, 14)\n",
    "    Map.addLayer(ls_median, vis_params_rgb, f\"Satelite Image\")\n",
    "else:\n",
    "    print(\"Error Couldn't find datapoint\")"
   ]
  },
  {
   "cell_type": "code",
   "execution_count": 6,
   "metadata": {
    "scrolled": true
   },
   "outputs": [],
   "source": [
    "YEARS = list(range(2013, 2022))\n",
    "base_folder_name_1 = \"Pohang_Si_Winter\"\n",
    "base_folder_name_2 = \"Pohang_Si_Summer\"\n",
    "\n",
    "export_to_drive(CITY_COORDS, years=YEARS, months=RELEVANT_MONTHS_WINTER, base_folder_name=base_folder_name_1)\n",
    "export_to_drive(CITY_COORDS, years=YEARS, months=RELEVANT_MONTHS_SUMMER, base_folder_name=base_folder_name_2)"
   ]
  },
  {
   "cell_type": "code",
   "execution_count": 10,
   "metadata": {},
   "outputs": [
    {
     "name": "stdout",
     "output_type": "stream",
     "text": [
      "(8, 8, 665, 665)\n",
      "(1, 8, 665, 665)\n"
     ]
    }
   ],
   "source": [
    "band_list = [1, 2, 3, 4, 5, 6, 7, 8]\n",
    "export_to_numpy(years=YEARS, base_folder_name=base_folder_name_1, band_list=band_list)\n",
    "export_to_numpy(years=YEARS, base_folder_name=base_folder_name_2, band_list=band_list)"
   ]
  },
  {
   "cell_type": "code",
   "execution_count": 4,
   "metadata": {},
   "outputs": [
    {
     "name": "stdout",
     "output_type": "stream",
     "text": [
      "(9, 8, 665, 665)\n"
     ]
    },
    {
     "ename": "KeyboardInterrupt",
     "evalue": "",
     "output_type": "error",
     "traceback": [
      "\u001b[0;31m---------------------------------------------------------------------------\u001b[0m",
      "\u001b[0;31mKeyboardInterrupt\u001b[0m                         Traceback (most recent call last)",
      "Cell \u001b[0;32mIn [4], line 4\u001b[0m\n\u001b[1;32m      1\u001b[0m \u001b[39mfrom\u001b[39;00m \u001b[39mdl_landcover\u001b[39;00m \u001b[39mimport\u001b[39;00m main\n\u001b[1;32m      3\u001b[0m coords \u001b[39m=\u001b[39m [\u001b[39m36.86905523581975\u001b[39m, \u001b[39m-\u001b[39m\u001b[39m1.2815372605877613\u001b[39m]\n\u001b[0;32m----> 4\u001b[0m main(coords, \u001b[39m'\u001b[39;49m\u001b[39mdata/nairobi_images_36-86_1-28\u001b[39;49m\u001b[39m'\u001b[39;49m, \u001b[39m'\u001b[39;49m\u001b[39mdata/nairobi_images_36-86_1-28/data_raw.npy\u001b[39;49m\u001b[39m'\u001b[39;49m)\n",
      "File \u001b[0;32m~/research/remote-sensing-landuse/dl_landcover.py:48\u001b[0m, in \u001b[0;36mmain\u001b[0;34m(coordinates, base_dir, raw_data_dir)\u001b[0m\n\u001b[1;32m     45\u001b[0m catalogue \u001b[39m=\u001b[39m Catalogue()\u001b[39m.\u001b[39mauthenticate()\n\u001b[1;32m     47\u001b[0m products \u001b[39m=\u001b[39m catalogue\u001b[39m.\u001b[39mget_products(\u001b[39m\"\u001b[39m\u001b[39murn:eop:VITO:ESA_WorldCover_10m_2020_V1\u001b[39m\u001b[39m\"\u001b[39m, geometry\u001b[39m=\u001b[39mgeometry)\n\u001b[0;32m---> 48\u001b[0m catalogue\u001b[39m.\u001b[39;49mdownload_products(products, \u001b[39mf\u001b[39;49m\u001b[39m\"\u001b[39;49m\u001b[39m{\u001b[39;49;00mbase_dir\u001b[39m}\u001b[39;49;00m\u001b[39m\"\u001b[39;49m)\n\u001b[1;32m     49\u001b[0m file_list \u001b[39m=\u001b[39m glob\u001b[39m.\u001b[39mglob(\u001b[39mf\u001b[39m\u001b[39m\"\u001b[39m\u001b[39m{\u001b[39;00mbase_dir\u001b[39m}\u001b[39;00m\u001b[39m/*/*Map.tif\u001b[39m\u001b[39m\"\u001b[39m)\n\u001b[1;32m     51\u001b[0m proj_window \u001b[39m=\u001b[39m create_projection_window(bounds)\n",
      "File \u001b[0;32m~/anaconda3/envs/remote-sensing-landuse/lib/python3.8/site-packages/terracatalogueclient/client.py:375\u001b[0m, in \u001b[0;36mCatalogue.download_products\u001b[0;34m(self, products, path, file_types, force)\u001b[0m\n\u001b[1;32m    363\u001b[0m \u001b[39mdef\u001b[39;00m \u001b[39mdownload_products\u001b[39m(\u001b[39mself\u001b[39m,\n\u001b[1;32m    364\u001b[0m                       products: Iterable[Product],\n\u001b[1;32m    365\u001b[0m                       path: \u001b[39mstr\u001b[39m,\n\u001b[1;32m    366\u001b[0m                       file_types: ProductFileType \u001b[39m=\u001b[39m ProductFileType\u001b[39m.\u001b[39mALL,\n\u001b[1;32m    367\u001b[0m                       force: \u001b[39mbool\u001b[39m \u001b[39m=\u001b[39m \u001b[39mFalse\u001b[39;00m):\n\u001b[1;32m    368\u001b[0m     \u001b[39m\"\"\" Download the given products. This will download the files belonging to the given products matching the provided file types.\u001b[39;00m\n\u001b[1;32m    369\u001b[0m \n\u001b[1;32m    370\u001b[0m \u001b[39m     :param products: iterable of products to download\u001b[39;00m\n\u001b[0;32m   (...)\u001b[0m\n\u001b[1;32m    373\u001b[0m \u001b[39m     :param force: skip download confirmation\u001b[39;00m\n\u001b[1;32m    374\u001b[0m \u001b[39m     \"\"\"\u001b[39;00m\n\u001b[0;32m--> 375\u001b[0m     products \u001b[39m=\u001b[39m \u001b[39mlist\u001b[39;49m(products)\n\u001b[1;32m    376\u001b[0m     \u001b[39mif\u001b[39;00m \u001b[39mnot\u001b[39;00m force:\n\u001b[1;32m    377\u001b[0m         confirmed \u001b[39m=\u001b[39m \u001b[39mFalse\u001b[39;00m\n",
      "File \u001b[0;32m~/anaconda3/envs/remote-sensing-landuse/lib/python3.8/site-packages/terracatalogueclient/client.py:550\u001b[0m, in \u001b[0;36mCatalogue._get_paginated_feature_generator\u001b[0;34m(self, url, url_params, builder)\u001b[0m\n\u001b[1;32m    547\u001b[0m limit \u001b[39m=\u001b[39m url_params\u001b[39m.\u001b[39mpop(\u001b[39m\"\u001b[39m\u001b[39mlimit\u001b[39m\u001b[39m\"\u001b[39m, \u001b[39mNone\u001b[39;00m)\n\u001b[1;32m    548\u001b[0m feature_count \u001b[39m=\u001b[39m \u001b[39m0\u001b[39m\n\u001b[0;32m--> 550\u001b[0m response \u001b[39m=\u001b[39m \u001b[39mself\u001b[39;49m\u001b[39m.\u001b[39;49m_session_search\u001b[39m.\u001b[39;49mget(url, params\u001b[39m=\u001b[39;49murl_params, timeout\u001b[39m=\u001b[39;49m_SEARCH_TIMEOUT)\n\u001b[1;32m    552\u001b[0m \u001b[39mif\u001b[39;00m response\u001b[39m.\u001b[39mstatus_code \u001b[39m==\u001b[39m requests\u001b[39m.\u001b[39mcodes\u001b[39m.\u001b[39mok:\n\u001b[1;32m    553\u001b[0m     response_json \u001b[39m=\u001b[39m response\u001b[39m.\u001b[39mjson()\n",
      "File \u001b[0;32m~/anaconda3/envs/remote-sensing-landuse/lib/python3.8/site-packages/requests/sessions.py:600\u001b[0m, in \u001b[0;36mSession.get\u001b[0;34m(self, url, **kwargs)\u001b[0m\n\u001b[1;32m    592\u001b[0m \u001b[39mr\u001b[39m\u001b[39m\"\"\"Sends a GET request. Returns :class:`Response` object.\u001b[39;00m\n\u001b[1;32m    593\u001b[0m \n\u001b[1;32m    594\u001b[0m \u001b[39m:param url: URL for the new :class:`Request` object.\u001b[39;00m\n\u001b[1;32m    595\u001b[0m \u001b[39m:param \\*\\*kwargs: Optional arguments that ``request`` takes.\u001b[39;00m\n\u001b[1;32m    596\u001b[0m \u001b[39m:rtype: requests.Response\u001b[39;00m\n\u001b[1;32m    597\u001b[0m \u001b[39m\"\"\"\u001b[39;00m\n\u001b[1;32m    599\u001b[0m kwargs\u001b[39m.\u001b[39msetdefault(\u001b[39m\"\u001b[39m\u001b[39mallow_redirects\u001b[39m\u001b[39m\"\u001b[39m, \u001b[39mTrue\u001b[39;00m)\n\u001b[0;32m--> 600\u001b[0m \u001b[39mreturn\u001b[39;00m \u001b[39mself\u001b[39;49m\u001b[39m.\u001b[39;49mrequest(\u001b[39m\"\u001b[39;49m\u001b[39mGET\u001b[39;49m\u001b[39m\"\u001b[39;49m, url, \u001b[39m*\u001b[39;49m\u001b[39m*\u001b[39;49mkwargs)\n",
      "File \u001b[0;32m~/anaconda3/envs/remote-sensing-landuse/lib/python3.8/site-packages/requests/sessions.py:573\u001b[0m, in \u001b[0;36mSession.request\u001b[0;34m(self, method, url, params, data, headers, cookies, files, auth, timeout, allow_redirects, proxies, hooks, stream, verify, cert, json)\u001b[0m\n\u001b[1;32m    560\u001b[0m \u001b[39m# Create the Request.\u001b[39;00m\n\u001b[1;32m    561\u001b[0m req \u001b[39m=\u001b[39m Request(\n\u001b[1;32m    562\u001b[0m     method\u001b[39m=\u001b[39mmethod\u001b[39m.\u001b[39mupper(),\n\u001b[1;32m    563\u001b[0m     url\u001b[39m=\u001b[39murl,\n\u001b[0;32m   (...)\u001b[0m\n\u001b[1;32m    571\u001b[0m     hooks\u001b[39m=\u001b[39mhooks,\n\u001b[1;32m    572\u001b[0m )\n\u001b[0;32m--> 573\u001b[0m prep \u001b[39m=\u001b[39m \u001b[39mself\u001b[39;49m\u001b[39m.\u001b[39;49mprepare_request(req)\n\u001b[1;32m    575\u001b[0m proxies \u001b[39m=\u001b[39m proxies \u001b[39mor\u001b[39;00m {}\n\u001b[1;32m    577\u001b[0m settings \u001b[39m=\u001b[39m \u001b[39mself\u001b[39m\u001b[39m.\u001b[39mmerge_environment_settings(\n\u001b[1;32m    578\u001b[0m     prep\u001b[39m.\u001b[39murl, proxies, stream, verify, cert\n\u001b[1;32m    579\u001b[0m )\n",
      "File \u001b[0;32m~/anaconda3/envs/remote-sensing-landuse/lib/python3.8/site-packages/requests/sessions.py:484\u001b[0m, in \u001b[0;36mSession.prepare_request\u001b[0;34m(self, request)\u001b[0m\n\u001b[1;32m    481\u001b[0m     auth \u001b[39m=\u001b[39m get_netrc_auth(request\u001b[39m.\u001b[39murl)\n\u001b[1;32m    483\u001b[0m p \u001b[39m=\u001b[39m PreparedRequest()\n\u001b[0;32m--> 484\u001b[0m p\u001b[39m.\u001b[39;49mprepare(\n\u001b[1;32m    485\u001b[0m     method\u001b[39m=\u001b[39;49mrequest\u001b[39m.\u001b[39;49mmethod\u001b[39m.\u001b[39;49mupper(),\n\u001b[1;32m    486\u001b[0m     url\u001b[39m=\u001b[39;49mrequest\u001b[39m.\u001b[39;49murl,\n\u001b[1;32m    487\u001b[0m     files\u001b[39m=\u001b[39;49mrequest\u001b[39m.\u001b[39;49mfiles,\n\u001b[1;32m    488\u001b[0m     data\u001b[39m=\u001b[39;49mrequest\u001b[39m.\u001b[39;49mdata,\n\u001b[1;32m    489\u001b[0m     json\u001b[39m=\u001b[39;49mrequest\u001b[39m.\u001b[39;49mjson,\n\u001b[1;32m    490\u001b[0m     headers\u001b[39m=\u001b[39;49mmerge_setting(\n\u001b[1;32m    491\u001b[0m         request\u001b[39m.\u001b[39;49mheaders, \u001b[39mself\u001b[39;49m\u001b[39m.\u001b[39;49mheaders, dict_class\u001b[39m=\u001b[39;49mCaseInsensitiveDict\n\u001b[1;32m    492\u001b[0m     ),\n\u001b[1;32m    493\u001b[0m     params\u001b[39m=\u001b[39;49mmerge_setting(request\u001b[39m.\u001b[39;49mparams, \u001b[39mself\u001b[39;49m\u001b[39m.\u001b[39;49mparams),\n\u001b[1;32m    494\u001b[0m     auth\u001b[39m=\u001b[39;49mmerge_setting(auth, \u001b[39mself\u001b[39;49m\u001b[39m.\u001b[39;49mauth),\n\u001b[1;32m    495\u001b[0m     cookies\u001b[39m=\u001b[39;49mmerged_cookies,\n\u001b[1;32m    496\u001b[0m     hooks\u001b[39m=\u001b[39;49mmerge_hooks(request\u001b[39m.\u001b[39;49mhooks, \u001b[39mself\u001b[39;49m\u001b[39m.\u001b[39;49mhooks),\n\u001b[1;32m    497\u001b[0m )\n\u001b[1;32m    498\u001b[0m \u001b[39mreturn\u001b[39;00m p\n",
      "File \u001b[0;32m~/anaconda3/envs/remote-sensing-landuse/lib/python3.8/site-packages/requests/models.py:372\u001b[0m, in \u001b[0;36mPreparedRequest.prepare\u001b[0;34m(self, method, url, headers, files, data, params, auth, cookies, hooks, json)\u001b[0m\n\u001b[1;32m    370\u001b[0m \u001b[39mself\u001b[39m\u001b[39m.\u001b[39mprepare_cookies(cookies)\n\u001b[1;32m    371\u001b[0m \u001b[39mself\u001b[39m\u001b[39m.\u001b[39mprepare_body(data, files, json)\n\u001b[0;32m--> 372\u001b[0m \u001b[39mself\u001b[39;49m\u001b[39m.\u001b[39;49mprepare_auth(auth, url)\n\u001b[1;32m    374\u001b[0m \u001b[39m# Note that prepare_auth must be last to enable authentication schemes\u001b[39;00m\n\u001b[1;32m    375\u001b[0m \u001b[39m# such as OAuth to work on a fully prepared request.\u001b[39;00m\n\u001b[1;32m    376\u001b[0m \n\u001b[1;32m    377\u001b[0m \u001b[39m# This MUST go after prepare_auth. Authenticators could add a hook\u001b[39;00m\n\u001b[1;32m    378\u001b[0m \u001b[39mself\u001b[39m\u001b[39m.\u001b[39mprepare_hooks(hooks)\n",
      "File \u001b[0;32m~/anaconda3/envs/remote-sensing-landuse/lib/python3.8/site-packages/requests/models.py:603\u001b[0m, in \u001b[0;36mPreparedRequest.prepare_auth\u001b[0;34m(self, auth, url)\u001b[0m\n\u001b[1;32m    600\u001b[0m     auth \u001b[39m=\u001b[39m HTTPBasicAuth(\u001b[39m*\u001b[39mauth)\n\u001b[1;32m    602\u001b[0m \u001b[39m# Allow auth to make its changes.\u001b[39;00m\n\u001b[0;32m--> 603\u001b[0m r \u001b[39m=\u001b[39m auth(\u001b[39mself\u001b[39;49m)\n\u001b[1;32m    605\u001b[0m \u001b[39m# Update self to reflect the auth changes.\u001b[39;00m\n\u001b[1;32m    606\u001b[0m \u001b[39mself\u001b[39m\u001b[39m.\u001b[39m\u001b[39m__dict__\u001b[39m\u001b[39m.\u001b[39mupdate(r\u001b[39m.\u001b[39m\u001b[39m__dict__\u001b[39m)\n",
      "File \u001b[0;32m~/anaconda3/envs/remote-sensing-landuse/lib/python3.8/site-packages/requests_auth/authentication.py:629\u001b[0m, in \u001b[0;36mOAuth2AuthorizationCodePKCE.__call__\u001b[0;34m(self, r)\u001b[0m\n\u001b[1;32m    628\u001b[0m \u001b[39mdef\u001b[39;00m \u001b[39m__call__\u001b[39m(\u001b[39mself\u001b[39m, r):\n\u001b[0;32m--> 629\u001b[0m     token \u001b[39m=\u001b[39m OAuth2\u001b[39m.\u001b[39;49mtoken_cache\u001b[39m.\u001b[39;49mget_token(\n\u001b[1;32m    630\u001b[0m         key\u001b[39m=\u001b[39;49m\u001b[39mself\u001b[39;49m\u001b[39m.\u001b[39;49mstate,\n\u001b[1;32m    631\u001b[0m         early_expiry\u001b[39m=\u001b[39;49m\u001b[39mself\u001b[39;49m\u001b[39m.\u001b[39;49mearly_expiry,\n\u001b[1;32m    632\u001b[0m         on_missing_token\u001b[39m=\u001b[39;49m\u001b[39mself\u001b[39;49m\u001b[39m.\u001b[39;49mrequest_new_token,\n\u001b[1;32m    633\u001b[0m         on_expired_token\u001b[39m=\u001b[39;49m\u001b[39mself\u001b[39;49m\u001b[39m.\u001b[39;49mrefresh_token,\n\u001b[1;32m    634\u001b[0m     )\n\u001b[1;32m    635\u001b[0m     r\u001b[39m.\u001b[39mheaders[\u001b[39mself\u001b[39m\u001b[39m.\u001b[39mheader_name] \u001b[39m=\u001b[39m \u001b[39mself\u001b[39m\u001b[39m.\u001b[39mheader_value\u001b[39m.\u001b[39mformat(token\u001b[39m=\u001b[39mtoken)\n\u001b[1;32m    636\u001b[0m     \u001b[39mreturn\u001b[39;00m r\n",
      "File \u001b[0;32m~/anaconda3/envs/remote-sensing-landuse/lib/python3.8/site-packages/requests_auth/oauth2_tokens.py:165\u001b[0m, in \u001b[0;36mTokenMemoryCache.get_token\u001b[0;34m(self, key, early_expiry, on_missing_token, on_expired_token, **on_missing_token_kwargs)\u001b[0m\n\u001b[1;32m    163\u001b[0m \u001b[39mif\u001b[39;00m on_missing_token \u001b[39mis\u001b[39;00m \u001b[39mnot\u001b[39;00m \u001b[39mNone\u001b[39;00m:\n\u001b[1;32m    164\u001b[0m     \u001b[39mwith\u001b[39;00m \u001b[39mself\u001b[39m\u001b[39m.\u001b[39mforbid_concurrent_missing_token_function_call:\n\u001b[0;32m--> 165\u001b[0m         new_token \u001b[39m=\u001b[39m on_missing_token(\u001b[39m*\u001b[39;49m\u001b[39m*\u001b[39;49mon_missing_token_kwargs)\n\u001b[1;32m    166\u001b[0m         \u001b[39mif\u001b[39;00m \u001b[39mlen\u001b[39m(new_token) \u001b[39m==\u001b[39m \u001b[39m2\u001b[39m:  \u001b[39m# Bearer token\u001b[39;00m\n\u001b[1;32m    167\u001b[0m             state, token \u001b[39m=\u001b[39m new_token\n",
      "File \u001b[0;32m~/anaconda3/envs/remote-sensing-landuse/lib/python3.8/site-packages/requests_auth/authentication.py:640\u001b[0m, in \u001b[0;36mOAuth2AuthorizationCodePKCE.request_new_token\u001b[0;34m(self)\u001b[0m\n\u001b[1;32m    638\u001b[0m \u001b[39mdef\u001b[39;00m \u001b[39mrequest_new_token\u001b[39m(\u001b[39mself\u001b[39m) \u001b[39m-\u001b[39m\u001b[39m>\u001b[39m \u001b[39mtuple\u001b[39m:\n\u001b[1;32m    639\u001b[0m     \u001b[39m# Request code\u001b[39;00m\n\u001b[0;32m--> 640\u001b[0m     state, code \u001b[39m=\u001b[39m oauth2_authentication_responses_server\u001b[39m.\u001b[39;49mrequest_new_grant(\n\u001b[1;32m    641\u001b[0m         \u001b[39mself\u001b[39;49m\u001b[39m.\u001b[39;49mcode_grant_details\n\u001b[1;32m    642\u001b[0m     )\n\u001b[1;32m    644\u001b[0m     \u001b[39m# As described in https://tools.ietf.org/html/rfc6749#section-4.1.3\u001b[39;00m\n\u001b[1;32m    645\u001b[0m     \u001b[39mself\u001b[39m\u001b[39m.\u001b[39mtoken_data[\u001b[39m\"\u001b[39m\u001b[39mcode\u001b[39m\u001b[39m\"\u001b[39m] \u001b[39m=\u001b[39m code\n",
      "File \u001b[0;32m~/anaconda3/envs/remote-sensing-landuse/lib/python3.8/site-packages/requests_auth/oauth2_authentication_responses_server.py:191\u001b[0m, in \u001b[0;36mrequest_new_grant\u001b[0;34m(grant_details)\u001b[0m\n\u001b[1;32m    189\u001b[0m \u001b[39mwith\u001b[39;00m FixedHttpServer(grant_details) \u001b[39mas\u001b[39;00m server:\n\u001b[1;32m    190\u001b[0m     _open_url(grant_details\u001b[39m.\u001b[39murl)\n\u001b[0;32m--> 191\u001b[0m     \u001b[39mreturn\u001b[39;00m _wait_for_grant(server)\n",
      "File \u001b[0;32m~/anaconda3/envs/remote-sensing-landuse/lib/python3.8/site-packages/requests_auth/oauth2_authentication_responses_server.py:223\u001b[0m, in \u001b[0;36m_wait_for_grant\u001b[0;34m(server)\u001b[0m\n\u001b[1;32m    221\u001b[0m logger\u001b[39m.\u001b[39mdebug(\u001b[39m\"\u001b[39m\u001b[39mWaiting for user authentication...\u001b[39m\u001b[39m\"\u001b[39m)\n\u001b[1;32m    222\u001b[0m \u001b[39mwhile\u001b[39;00m \u001b[39mnot\u001b[39;00m server\u001b[39m.\u001b[39mgrant:\n\u001b[0;32m--> 223\u001b[0m     server\u001b[39m.\u001b[39;49mhandle_request()\n\u001b[1;32m    224\u001b[0m     server\u001b[39m.\u001b[39mensure_no_error_occurred()\n\u001b[1;32m    225\u001b[0m \u001b[39mreturn\u001b[39;00m server\u001b[39m.\u001b[39mgrant\n",
      "File \u001b[0;32m~/anaconda3/envs/remote-sensing-landuse/lib/python3.8/socketserver.py:294\u001b[0m, in \u001b[0;36mBaseServer.handle_request\u001b[0;34m(self)\u001b[0m\n\u001b[1;32m    291\u001b[0m selector\u001b[39m.\u001b[39mregister(\u001b[39mself\u001b[39m, selectors\u001b[39m.\u001b[39mEVENT_READ)\n\u001b[1;32m    293\u001b[0m \u001b[39mwhile\u001b[39;00m \u001b[39mTrue\u001b[39;00m:\n\u001b[0;32m--> 294\u001b[0m     ready \u001b[39m=\u001b[39m selector\u001b[39m.\u001b[39;49mselect(timeout)\n\u001b[1;32m    295\u001b[0m     \u001b[39mif\u001b[39;00m ready:\n\u001b[1;32m    296\u001b[0m         \u001b[39mreturn\u001b[39;00m \u001b[39mself\u001b[39m\u001b[39m.\u001b[39m_handle_request_noblock()\n",
      "File \u001b[0;32m~/anaconda3/envs/remote-sensing-landuse/lib/python3.8/selectors.py:415\u001b[0m, in \u001b[0;36m_PollLikeSelector.select\u001b[0;34m(self, timeout)\u001b[0m\n\u001b[1;32m    413\u001b[0m ready \u001b[39m=\u001b[39m []\n\u001b[1;32m    414\u001b[0m \u001b[39mtry\u001b[39;00m:\n\u001b[0;32m--> 415\u001b[0m     fd_event_list \u001b[39m=\u001b[39m \u001b[39mself\u001b[39;49m\u001b[39m.\u001b[39;49m_selector\u001b[39m.\u001b[39;49mpoll(timeout)\n\u001b[1;32m    416\u001b[0m \u001b[39mexcept\u001b[39;00m \u001b[39mInterruptedError\u001b[39;00m:\n\u001b[1;32m    417\u001b[0m     \u001b[39mreturn\u001b[39;00m ready\n",
      "\u001b[0;31mKeyboardInterrupt\u001b[0m: "
     ]
    }
   ],
   "source": [
    "from dl_landcover import main\n",
    "\n",
    "coords = [36.86905523581975, -1.2815372605877613]\n",
    "main(coords, 'data/nairobi_images_36-86_1-28', 'data/nairobi_images_36-86_1-28/data_raw.npy')"
   ]
  },
  {
   "cell_type": "code",
   "execution_count": null,
   "metadata": {},
   "outputs": [],
   "source": []
  }
 ],
 "metadata": {
  "kernelspec": {
   "display_name": "remote-sensing-landuse",
   "language": "python",
   "name": "python3"
  },
  "language_info": {
   "codemirror_mode": {
    "name": "ipython",
    "version": 3
   },
   "file_extension": ".py",
   "mimetype": "text/x-python",
   "name": "python",
   "nbconvert_exporter": "python",
   "pygments_lexer": "ipython3",
   "version": "3.8.15"
  },
  "vscode": {
   "interpreter": {
    "hash": "39f9f1f065b5771fa159c3adde0966191b6d7c113f68f4d93de249481ae639bc"
   }
  }
 },
 "nbformat": 4,
 "nbformat_minor": 1
}
