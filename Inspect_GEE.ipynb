{
 "cells": [
  {
   "cell_type": "code",
   "execution_count": 10,
   "metadata": {},
   "outputs": [],
   "source": [
    "import ee\n",
    "\n",
    "# Trigger the authentication flow.\n",
    "#ee.Authenticate()\n",
    "\n",
    "# Initialize the library.\n",
    "ee.Initialize()\n",
    "\n",
    "import geemap\n",
    "import json\n",
    "from ipyleaflet import GeoJSON, Marker, MarkerCluster\n",
    "import matplotlib.pyplot as plt\n",
    "import numpy as np\n",
    "from matplotlib.animation import FuncAnimation\n",
    "from skimage import exposure\n",
    "import cv2\n",
    "import os\n",
    "from dl_landsat import LANDSAT_8, apply_scale_factors_8, mask_clouds, export_to_drive"
   ]
  },
  {
   "cell_type": "code",
   "execution_count": 15,
   "metadata": {},
   "outputs": [
    {
     "data": {
      "application/vnd.jupyter.widget-view+json": {
       "model_id": "6956bc5351a747d796042ac567429d73",
       "version_major": 2,
       "version_minor": 0
      },
      "text/plain": [
       "Map(center=[20, 0], controls=(WidgetControl(options=['position', 'transparent_bg'], widget=HBox(children=(Togg…"
      ]
     },
     "execution_count": 15,
     "metadata": {},
     "output_type": "execute_result"
    }
   ],
   "source": [
    "CITY = ee.Geometry.Point([129.3145, 36.0030]) # Coord format: E, N \n",
    "\n",
    "YEAR = 2013\n",
    "\n",
    "Map = geemap.Map()\n",
    "\n",
    "Map"
   ]
  },
  {
   "cell_type": "code",
   "execution_count": 16,
   "metadata": {},
   "outputs": [
    {
     "name": "stdout",
     "output_type": "stream",
     "text": [
      "Data Available:  True\n",
      "Number of exported Months:\n",
      "14\n",
      "Images Exported:\n",
      "2013/04/11 11:03\n",
      "2013/05/13 11:01\n",
      "2013/06/30 11:01\n",
      "2013/07/16 11:01\n",
      "2013/08/01 11:01\n",
      "2013/08/17 11:01\n",
      "2013/09/02 11:01\n",
      "2013/09/18 11:01\n",
      "2013/10/04 11:00\n",
      "2013/10/20 11:00\n",
      "2013/11/05 11:00\n",
      "2013/11/21 11:00\n",
      "2013/12/07 11:00\n",
      "2013/12/23 11:00\n"
     ]
    }
   ],
   "source": [
    "ls_read = (ee.ImageCollection(LANDSAT_8)\n",
    "           .map(apply_scale_factors_8)\n",
    "           .filterBounds(CITY)\n",
    "           .filterDate(f'{YEAR}-01-01', f'{YEAR}-12-31')\n",
    "           .map(mask_clouds)\n",
    "           )\n",
    "ls_median = ls_read.median()\n",
    "\n",
    "data_available = ls_median.getInfo() is not None\n",
    "\n",
    "print(\"Data Available: \", data_available)\n",
    "if data_available:\n",
    "    print(\"Number of exported Months:\")\n",
    "    print(ls_read.size().getInfo())\n",
    "    time_stamps = ls_read.aggregate_array(\"system:time_start\").getInfo()\n",
    "    dates = list(\n",
    "        map(lambda x: datetime.datetime.fromtimestamp(x / 1e3).strftime(\"%Y/%m/%d %H:%M\"), time_stamps))\n",
    "    print(\"Images Exported:\")\n",
    "    for date in dates:\n",
    "        print(date)\n",
    "    vis_params_wc = {\"bands\": ['Map']}\n",
    "    vis_params_rgb = {'bands': ['B3', \"B2\", \"B1\"], \"min\": 0, \"max\": 0.3, 'opacity': 1.0}\n",
    "    Map.centerObject(CITY, 14)\n",
    "    Map.addLayer(ls_median, vis_params_rgb, f\"Satelite Image\")\n",
    "else:\n",
    "    print(\"Error Couldn't find datapoint\")"
   ]
  },
  {
   "cell_type": "code",
   "execution_count": null,
   "metadata": {},
   "outputs": [],
   "source": []
  }
 ],
 "metadata": {
  "kernelspec": {
   "display_name": "Python 3 (ipykernel)",
   "language": "python",
   "name": "python3"
  },
  "language_info": {
   "codemirror_mode": {
    "name": "ipython",
    "version": 3
   },
   "file_extension": ".py",
   "mimetype": "text/x-python",
   "name": "python",
   "nbconvert_exporter": "python",
   "pygments_lexer": "ipython3",
   "version": "3.8.15"
  }
 },
 "nbformat": 4,
 "nbformat_minor": 1
}
