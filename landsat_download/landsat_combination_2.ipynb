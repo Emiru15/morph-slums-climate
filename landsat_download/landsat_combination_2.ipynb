{
 "cells": [
  {
   "cell_type": "code",
   "execution_count": 1,
   "id": "3f43ad23",
   "metadata": {},
   "outputs": [],
   "source": [
    "import ee\n",
    "\n",
    "# Trigger the authentication flow.\n",
    "#ee.Authenticate()\n",
    "\n",
    "# Initialize the library.\n",
    "ee.Initialize()"
   ]
  },
  {
   "cell_type": "code",
   "execution_count": 2,
   "id": "b9f3fc57",
   "metadata": {},
   "outputs": [],
   "source": [
    "import geemap\n",
    "import json\n",
    "from ipyleaflet import GeoJSON, Marker, MarkerCluster\n",
    "import matplotlib.pyplot as plt\n",
    "import numpy as np\n",
    "from matplotlib.animation import FuncAnimation\n",
    "from skimage import exposure\n",
    "import cv2"
   ]
  },
  {
   "cell_type": "code",
   "execution_count": 3,
   "id": "3f6fe462",
   "metadata": {},
   "outputs": [],
   "source": [
    "Map = geemap.Map()"
   ]
  },
  {
   "cell_type": "code",
   "execution_count": 4,
   "id": "792a4df7",
   "metadata": {},
   "outputs": [],
   "source": [
    "def create_bounding_box(point: ee.Geometry.Point, diameter: float):\n",
    "    intermediate_circle = point.buffer(diameter/2.0, 0.0)\n",
    "    return intermediate_circle.bounds()\n",
    "\n",
    "AMBERG = ee.Geometry.Point([11.8633, 49.4403]) # Coord format: E, N\n",
    "AMBERG_BOUNDING_BOX = create_bounding_box(AMBERG, 10000)"
   ]
  },
  {
   "cell_type": "code",
   "execution_count": 6,
   "id": "2f6b3253",
   "metadata": {},
   "outputs": [],
   "source": [
    "LC8_MAPPING = {\n",
    "    \"B1\": \"B2\",\n",
    "    \"B2\": \"B3\",\n",
    "    \"B3\": \"B4\",\n",
    "    \"B4\": \"B5\",\n",
    "    \"B5\": \"B6\",\n",
    "    \"B7\": \"B7\"\n",
    "}\n",
    "\n",
    "LC7_MAPPING = {\n",
    "    \"B1\": \"B1\",\n",
    "    \"B2\": \"B2\",\n",
    "    \"B3\": \"B3\",\n",
    "    \"B4\": \"B4\",\n",
    "    \"B5\": \"B5\",\n",
    "    \"B7\": \"B7\"\n",
    "}\n",
    "\n",
    "LC5_MAPPING = {\n",
    "    \"B1\": \"B1\",\n",
    "    \"B2\": \"B2\",\n",
    "    \"B3\": \"B3\",\n",
    "    \"B4\": \"B4\",\n",
    "    \"B5\": \"B5\",\n",
    "    \"B7\": \"B7\"\n",
    "}\n",
    "SELECTED_BANDS = [\"B1\", \"B2\", \"B3\", \"B4\", \"B5\", \"B7\"]\n",
    "\n",
    "LANDSAT_5 = \"LANDSAT/LT05/C02/T1_TOA\"\n",
    "LANDSAT_5_START = 1984\n",
    "LANDSAT_5_END = 2000\n",
    "\n",
    "LANDSAT_7 = \"LANDSAT/LE07/C02/T1_TOA\"\n",
    "LANDSAT_7_START = 2000\n",
    "LANDSAT_7_END = 2012\n",
    "\n",
    "LANDSAT_8 = \"LANDSAT/LC08/C02/T1_TOA\"\n",
    "LANDSAT_8_START = 2013\n",
    "LANDSAT_8_END = 2022\n",
    "\n",
    "def rename_LS_8(image):\n",
    "    bands = list(LC8_MAPPING.values())\n",
    "    new_bands = list(LC8_MAPPING.keys())\n",
    "    return image.select(bands + [\"QA_PIXEL\"]).rename(new_bands + [\"QA_PIXEL\"])\n",
    "\n",
    "def rename_LS_7(image):\n",
    "    bands = list(LC7_MAPPING.keys())\n",
    "    new_bands = list(LC7_MAPPING.values())\n",
    "    return image.select(bands + [\"QA_PIXEL\"]).rename(new_bands + [\"QA_PIXEL\"])\n",
    "\n",
    "def rename_LS_5(image):\n",
    "    bands = list(LC5_MAPPING.values())\n",
    "    new_bands = list(LC5_MAPPING.keys())\n",
    "    return image.select(bands + [\"QA_PIXEL\"]).rename(new_bands + [\"QA_PIXEL\"])\n",
    "\n",
    "def mask_clouds(image):\n",
    "    \"\"\"\n",
    "    Mask clouds and cloud shadows from image\n",
    "    \"\"\"\n",
    "    cloud_shadow_bit_mask = (1 << 3)\n",
    "    cloud_bit_mask = (1 << 5)\n",
    "\n",
    "    qa = image.select(\"QA_PIXEL\")\n",
    "    \n",
    "    mask = qa.bitwiseAnd(cloud_shadow_bit_mask).eq(0) \\\n",
    "    .And(qa.bitwiseAnd(cloud_bit_mask).eq(0))\n",
    "    return image.updateMask(mask)\n",
    "\n",
    "image_ls_5 = (ee.ImageCollection(LANDSAT_5)\n",
    "                .filterDate(f'{LANDSAT_5_START}-01-01', f'{LANDSAT_5_END}-12-31')\n",
    "                .map(rename_LS_5))\n",
    "\n",
    "image_ls_7 = (ee.ImageCollection(LANDSAT_7)\n",
    "                .filterDate(f'{LANDSAT_7_START}-01-01', f'{LANDSAT_7_END}-12-31')\n",
    "                .map(rename_LS_7))\n",
    "\n",
    "image_ls_8 = (ee.ImageCollection(LANDSAT_8)\n",
    "                .filterDate(f'{LANDSAT_8_START}-01-01', f'{LANDSAT_8_END}-12-31')\n",
    "                .map(rename_LS_8))\n",
    "\n",
    "COMBINED_LANDSAT = ee.ImageCollection(image_ls_5.merge(image_ls_7).merge(image_ls_8))\n",
    "\n",
    "years = list(range(LANDSAT_5_START, LANDSAT_8_END))\n",
    "\n",
    "def parse_image_per_year(year):\n",
    "    ls_read = (COMBINED_LANDSAT\n",
    "                .filterDate(f'{year}-01-01', f'{year}-12-31'))\n",
    "    ls_read = (ls_read\n",
    "                .filter(ee.Filter.lessThan('CLOUD_COVER_LAND', 25))\n",
    "                .map(mask_clouds)\n",
    "                .median())\n",
    "    return ls_read\n",
    "LANDSAT_ANUAL_MEAN = [parse_image_per_year(year) for year in range(LANDSAT_5_START, LANDSAT_8_END)]\n",
    "LANDSAT_ANUAL_MEAN = ee.ImageCollection.fromImages(LANDSAT_ANUAL_MEAN)\n",
    "# TODO check if this works"
   ]
  },
  {
   "cell_type": "code",
   "execution_count": 121,
   "id": "54c22147",
   "metadata": {},
   "outputs": [],
   "source": [
    "def mask_cloud_LANDSAT457(image):\n",
    "    qa = image.select('QA_PIXEL')\n",
    "    # If the cloud bit (5) is set and the cloud confidence (7) is high\n",
    "    # or the cloud shadow bit is set (3), then it's a bad pixel.\n",
    "    cloud = qa.bitwiseAnd(1 << 5) \\\n",
    "                  .And(qa.bitwiseAnd(1 << 7)) \\\n",
    "                  .Or(qa.bitwiseAnd(1 << 3))\n",
    "    # Remove edge pixels that don't occur in all bands\n",
    "    mask2 = image.mask().reduce(ee.Reducer.min())\n",
    "    img = image.updateMask(cloud.Not()).updateMask(mask2)\n",
    "    return img.focal_mean(1, 'square', 'pixels', 8)\n",
    "\n",
    "def mask_cloud_LANDSAT8(image):\n",
    "    \"\"\"\n",
    "    Mask clouds and cloud shadows from image\n",
    "    \"\"\"\n",
    "    cloud_shadow_bit_mask = (1 << 3)\n",
    "    cloud_bit_mask = (1 << 5)\n",
    "\n",
    "    qa = image.select(\"QA_PIXEL\")\n",
    "    \n",
    "    mask = qa.bitwiseAnd(cloud_shadow_bit_mask).eq(0) \\\n",
    "    .And(qa.bitwiseAnd(cloud_bit_mask).eq(0))\n",
    "    img = image.updateMask(mask)\n",
    "    return img.focal_mean(1, 'square', 'pixels', 8)"
   ]
  },
  {
   "cell_type": "code",
   "execution_count": 127,
   "id": "f677d416",
   "metadata": {
    "scrolled": false
   },
   "outputs": [],
   "source": [
    "GAP_FILL_KERNEL_SIZE = 5 # Hyperparameter\n",
    "GAPFILL_KERNEL = ee.Kernel.square(GAP_FILL_KERNEL_SIZE * 30, 'meters', False)\n",
    "year = 1984\n",
    "\n",
    "ls7_read_g = (COMBINED_LANDSAT\n",
    "            .filterDate(f'{year}-01-01', f'{year}-12-31')\n",
    "            .filterBounds(AMBERG_BOUNDING_BOX))\n",
    "\n",
    "def gap_fill(image):\n",
    "    start = image.date().advance(-1, 'month')\n",
    "    end = image.date().advance(1, 'month')\n",
    "    fill = ls7_read_g.filterDate(start, end).median()\n",
    "    regress = fill.addBands(image)\n",
    "    regress1 = regress.select(regress.bandNames().sort())\n",
    "    fit = regress1.reduceNeighborhood(ee.Reducer.linearFit().forEach(image.bandNames()), GAPFILL_KERNEL, None, False)\n",
    "    offset = fit.select('.*_offset')\n",
    "    scale = fit.select('.*_scale')\n",
    "    scaled = fill.multiply(scale).add(offset)\n",
    "    return image.unmask(scaled, True)\n",
    "\n",
    "ls7_read_mc7 = (ls7_read_g\n",
    "            #.map(gap_fill)\n",
    "            #.select(\"B1\", \"B2\", \"B3\")\n",
    "            #.sort(\"CLOUD_COVER\")\n",
    "            #.filter(ee.Filter.lessThan('CLOUD_COVER_LAND', 15))\n",
    "            .map(cloud_mask_to_QA)\n",
    "            .first()\n",
    "          )\n",
    "ls7_read_mc8 = (ls7_read_g\n",
    "            #\n",
    "            #.select(\"B1\", \"B2\", \"B3\")\n",
    "            #.sort(\"CLOUD_COVER\")\n",
    "            #.filter(ee.Filter.lessThan('CLOUD_COVER_LAND', 15))\n",
    "            #.map(mask_cloud_LANDSAT8)\n",
    "            \n",
    "            .first()\n",
    "          )\n",
    "\n",
    "\n",
    "#ls7_read.select(\"B1\").getInfo()"
   ]
  },
  {
   "cell_type": "code",
   "execution_count": 134,
   "id": "07e28360",
   "metadata": {
    "scrolled": false
   },
   "outputs": [],
   "source": [
    "Map.remove_drawn_features()\n",
    "\n",
    "vis_params_rgb = {'bands': ['B3', 'B2', 'B1'], \"min\": 0, \"max\": 0.4}\n",
    "\n",
    "vis_params = {'bands': ['QA_PIXEL'], \"min\": 0, \"max\": 2}\n",
    "Map.centerObject(AMBERG, 12)\n",
    "Map.addLayer(ls7_read_mc7, vis_params, f\"Cloudmask\")\n",
    "Map.addLayer(ls7_read_mc8, vis_params_rgb, f\"MC 8\")"
   ]
  },
  {
   "cell_type": "code",
   "execution_count": 130,
   "id": "28a665ac",
   "metadata": {
    "scrolled": false
   },
   "outputs": [
    {
     "data": {
      "application/vnd.jupyter.widget-view+json": {
       "model_id": "e1aaa3ae1c9a4e0d933a2ef859f1c9a3",
       "version_major": 2,
       "version_minor": 0
      },
      "text/plain": [
       "Map(bottom=179408.0, center=[49.44030000000001, 11.8633], controls=(WidgetControl(options=['position', 'transp…"
      ]
     },
     "execution_count": 130,
     "metadata": {},
     "output_type": "execute_result"
    },
    {
     "data": {
      "application/javascript": [
       "\n",
       "        var code = IPython.notebook.insert_cell_below('code');\n",
       "        code.set_text(atob(\"dmlzX3BhcmFtcyA9IHsnYmFuZHMnOiBbJ0IxJywgJ0IyJywgJ0IzJ10sICdtaW4nOiAwLjAsICdtYXgnOiA0LjAsICdvcGFjaXR5JzogMS4wLCAnZ2FtbWEnOiAxLjV9\"));\n",
       "    "
      ],
      "text/plain": [
       "<IPython.core.display.Javascript object>"
      ]
     },
     "metadata": {},
     "output_type": "display_data"
    },
    {
     "data": {
      "application/javascript": [
       "\n",
       "        var code = IPython.notebook.insert_cell_below('code');\n",
       "        code.set_text(atob(\"dmlzX3BhcmFtcyA9IHsnYmFuZHMnOiBbJ0IxJ10sICdtaW4nOiAwLjAsICdtYXgnOiA0LjAsICdvcGFjaXR5JzogMS4wLCAnZ2FtbWEnOiAxLjV9\"));\n",
       "    "
      ],
      "text/plain": [
       "<IPython.core.display.Javascript object>"
      ]
     },
     "metadata": {},
     "output_type": "display_data"
    },
    {
     "data": {
      "application/javascript": [
       "\n",
       "        var code = IPython.notebook.insert_cell_below('code');\n",
       "        code.set_text(atob(\"dmlzX3BhcmFtcyA9IHsnYmFuZHMnOiBbJ0IxJ10sICdtaW4nOiAwLjAsICdtYXgnOiAxLjAsICdvcGFjaXR5JzogMS4wLCAnZ2FtbWEnOiAxLjV9\"));\n",
       "    "
      ],
      "text/plain": [
       "<IPython.core.display.Javascript object>"
      ]
     },
     "metadata": {},
     "output_type": "display_data"
    }
   ],
   "source": [
    "Map"
   ]
  },
  {
   "cell_type": "code",
   "execution_count": null,
   "id": "99ec2ac7",
   "metadata": {},
   "outputs": [],
   "source": [
    "vis_params = {'bands': ['B1'], 'min': 0.0, 'max': 1.0, 'opacity': 1.0, 'gamma': 1.5}"
   ]
  },
  {
   "cell_type": "code",
   "execution_count": null,
   "id": "e5a84d15",
   "metadata": {},
   "outputs": [],
   "source": [
    "vis_params = {'bands': ['B1'], 'min': 0.0, 'max': 4.0, 'opacity': 1.0, 'gamma': 1.5}"
   ]
  },
  {
   "cell_type": "code",
   "execution_count": null,
   "id": "e560e489",
   "metadata": {},
   "outputs": [],
   "source": [
    "vis_params = {'bands': ['B1', 'B2', 'B3'], 'min': 0.0, 'max': 4.0, 'opacity': 1.0, 'gamma': 1.5}"
   ]
  },
  {
   "cell_type": "code",
   "execution_count": 109,
   "id": "3ccbf11e",
   "metadata": {
    "scrolled": false
   },
   "outputs": [],
   "source": [
    "import geemap.chart as chart\n",
    "\n",
    "YEAR = 1984\n",
    "seasons = {0: [], 1: [], 2: [], 3: []}\n",
    "for season, season_range in [(0, (3, 6)), (1,(6, 9)), (2,(9, 12)), (3,(12, 3))]:\n",
    "    CITY = ee.Geometry.Point([11.8633, 49.4403]) # Coord format: E, N\n",
    "    CITY_BOUNDING_BOX = create_bounding_box(CITY, 10000)\n",
    "\n",
    "    def map_to_date(image):\n",
    "        return image.get(\"system:time_start\")\n",
    "\n",
    "\n",
    "    ls_read_g = (COMBINED_LANDSAT\n",
    "                #.filterDate(f'{YEAR}-01-01', f'{YEAR+1}-01-01')\n",
    "                .filterBounds(CITY_BOUNDING_BOX)\n",
    "                .filter(ee.Filter.calendarRange(season_range[0], season_range[1], 'month')))\n",
    "\n",
    "    ls7_read_mc7 = (ls_read_g\n",
    "                #.filter(ee.Filter.lessThan('CLOUD_COVER_LAND', 15))\n",
    "                #.map(mask_cloud_LANDSAT457)\n",
    "                #.map(map_to_date)\n",
    "              )\n",
    "\n",
    "\n",
    "    sample = ls7_read_mc7.aggregate_histogram(\"CLOUD_COVER\").getInfo()#.toList()#.sample(CITY_BOUNDING_BOX, 10000)\n",
    "    PREC = 10\n",
    "    sample_agg = {key: 0.0 for key in range(0, 100+PREC, PREC)}\n",
    "\n",
    "    sum_values = 0.0\n",
    "    for k, v in sample.items():\n",
    "        key = int(np.floor(float(k)/10.0)*10.0 )\n",
    "        sample_agg[key] += v\n",
    "        sum_values += v\n",
    "    seasons[season] = np.asarray(list(sample_agg.values()))/sum_values"
   ]
  },
  {
   "cell_type": "code",
   "execution_count": 113,
   "id": "9bd4a6c4",
   "metadata": {
    "scrolled": true
   },
   "outputs": [
    {
     "data": {
      "image/png": "[encoded data removed]",
      "text/plain": [
       "<Figure size 640x480 with 1 Axes>"
      ]
     },
     "metadata": {},
     "output_type": "display_data"
    }
   ],
   "source": [
    "ax = plt.subplot(111)\n",
    "plt.title(f\"Seasonal Cloud coverage 1984-2022\")\n",
    "x = np.asarray(list(range(len(seasons[0]))))\n",
    "\n",
    "width = 0.2\n",
    "ax.bar(x-1.5*width, seasons[0],  width=width, label=\"Spring\")\n",
    "ax.bar(x-0.5*width, seasons[1], width=width, label=\"Summer\")\n",
    "ax.bar(x+0.5*width, seasons[2], width=width, label=\"Autumn\")\n",
    "ax.bar(x+1.5*width, seasons[3],  width=width, label=\"Winter\")\n",
    "plt.legend()\n",
    "plt.show()"
   ]
  },
  {
   "cell_type": "code",
   "execution_count": null,
   "id": "1cdd06cf",
   "metadata": {},
   "outputs": [],
   "source": []
  }
 ],
 "metadata": {
  "kernelspec": {
   "display_name": "Python 3 (ipykernel)",
   "language": "python",
   "name": "python3"
  },
  "language_info": {
   "codemirror_mode": {
    "name": "ipython",
    "version": 3
   },
   "file_extension": ".py",
   "mimetype": "text/x-python",
   "name": "python",
   "nbconvert_exporter": "python",
   "pygments_lexer": "ipython3",
   "version": "3.8.13"
  }
 },
 "nbformat": 4,
 "nbformat_minor": 5
}
