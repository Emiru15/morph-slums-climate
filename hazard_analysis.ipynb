{
 "cells": [
  {
   "cell_type": "code",
   "execution_count": null,
   "metadata": {},
   "outputs": [],
   "source": [
    "import xarray as xr\n",
    "import matplotlib.pyplot as plt\n",
    "import pandas as pd\n",
    "from datetime import datetime, timedelta\n",
    "import netCDF4 as nc\n",
    "import glob\n",
    "import numpy as np\n",
    "import cartopy.crs as ccrs   \n",
    "from matplotlib.pyplot import figure\n",
    "from functools import partial\n",
    "\n",
    "from tqdm.notebook import tqdm\n",
    "from idf_analysis import IntensityDurationFrequencyAnalyse\n",
    "from idf_analysis.definitions import *\n",
    "from os import path"
   ]
  },
  {
   "cell_type": "code",
   "execution_count": null,
   "metadata": {},
   "outputs": [],
   "source": [
    "def read_netcdfs(files, transform_func=None):\n",
    "    def process_one_path(path):\n",
    "        with xr.open_dataset(path, drop_variables=['time_bounds', 'lat_bounds', 'lon_bounds']) as ds:\n",
    "            if transform_func is not None:\n",
    "                ds = transform_func(ds)\n",
    "\n",
    "            ds.load()\n",
    "            return ds\n",
    "\n",
    "    paths = sorted(glob.glob(files))\n",
    "    datasets = [process_one_path(p) for p in paths]\n",
    "    combined = xr.combine_by_coords(datasets)\n",
    "    return combined\n",
    "# 18.655297, -33.991888\n",
    "# -0.762 ~ +0.574, -0.762 ~ +0.574\n",
    "# malabon\n",
    "lon_bounds, lat_bounds = (17.893297, 19.229297), (-34.753888, -33.417888)\n",
    "combined = read_netcdfs('/gucnas2/emir/cmorph/*/*/*/*.nc',\n",
    "                        transform_func=lambda ds: ds.sel(lon=slice(*lon_bounds), lat=slice(*lat_bounds)).mean(dim=['lat', 'lon']))\n",
    "combined"
   ]
  },
  {
   "attachments": {},
   "cell_type": "markdown",
   "metadata": {},
   "source": [
    "# Save to yaml file"
   ]
  },
  {
   "cell_type": "code",
   "execution_count": null,
   "metadata": {},
   "outputs": [],
   "source": [
    "# # Run this so you dont need to process the whole dataset again. Read the yaml file instead which is much smaller\n",
    "idf = IntensityDurationFrequencyAnalyse(series_kind=SERIES.PARTIAL, worksheet=METHOD.KOSTRA, extended_durations=True)\n",
    "time = pd.DatetimeIndex(combined['time'])\n",
    "cmorph = pd.Series(combined['cmorph'], index=time)\n",
    "\n",
    "idf.set_series(pd.Series(cmorph))\n",
    "idf.auto_save_parameters(path.join('/gucnas2/emir/cmorph', 'kisumu_idf_parameters.yaml'))"
   ]
  },
  {
   "attachments": {},
   "cell_type": "markdown",
   "metadata": {},
   "source": [
    "# Read saved yaml file"
   ]
  },
  {
   "cell_type": "code",
   "execution_count": null,
   "metadata": {},
   "outputs": [],
   "source": [
    "idf = IntensityDurationFrequencyAnalyse(series_kind=SERIES.PARTIAL, worksheet=METHOD.KOSTRA, extended_durations=True)\n",
    "idf.read_parameters('/gucnas2/emir/cmorph/accra_idf_parameters.yaml')"
   ]
  },
  {
   "cell_type": "code",
   "execution_count": null,
   "metadata": {},
   "outputs": [],
   "source": [
    "idf.result_table(add_names=True).round(2)\n",
    "idf.rain_events"
   ]
  },
  {
   "cell_type": "code",
   "execution_count": null,
   "metadata": {},
   "outputs": [],
   "source": [
    "idf.result_table(add_names=True).round(2).to_csv(path.join('/gucnas2/emir/cmorph', 'kisumu_idf.csv'), sep=',', decimal='.', float_format='%0.2f')"
   ]
  },
  {
   "cell_type": "code",
   "execution_count": null,
   "metadata": {},
   "outputs": [],
   "source": [
    "fig, ax = idf.result_figure(color=True, add_interim=False)"
   ]
  },
  {
   "cell_type": "code",
   "execution_count": null,
   "metadata": {},
   "outputs": [],
   "source": [
    "# Calculate average rainfall per year\n",
    "\n",
    "time = pd.DatetimeIndex(combined['time'])\n",
    "years = combined.groupby('time.year').sum()\n",
    "\n",
    "annual_average = years.cmorph[:-1].mean()\n",
    "annual_average/2"
   ]
  },
  {
   "attachments": {},
   "cell_type": "markdown",
   "metadata": {},
   "source": [
    "# WRF Heatparams"
   ]
  },
  {
   "attachments": {},
   "cell_type": "markdown",
   "metadata": {},
   "source": [
    "wrf_heat = xr.open_dataset('/gucnas2/emir/wrf/kisumu/wrfout_d03_2023-02-01_00:00:00_heatparams.nc')\n",
    "wrf_heat.UTCI.mean(dim=['Time', 'south_north', 'west_east'])"
   ]
  }
 ],
 "metadata": {
  "language_info": {
   "name": "python"
  },
  "orig_nbformat": 4
 },
 "nbformat": 4,
 "nbformat_minor": 2
}
